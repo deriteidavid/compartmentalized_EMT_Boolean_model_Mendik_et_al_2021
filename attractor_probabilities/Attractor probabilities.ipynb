{
 "cells": [
  {
   "cell_type": "markdown",
   "metadata": {},
   "source": [
    "# Numerically determining the attractor stability by noisy update"
   ]
  },
  {
   "cell_type": "code",
   "execution_count": 2,
   "metadata": {},
   "outputs": [],
   "source": [
    "import sys\n",
    "sys.path.append('BooleanDOI-master/')\n",
    "import boolean2_modified as boolean2\n",
    "import numpy as np\n",
    "import matplotlib.pyplot as plt\n",
    "import networkx as nx\n",
    "import numpy as np\n",
    "\n",
    "import BooleanDOI_processing as BDOIp\n",
    "import BooleanDOI_TargetControl as BDOItc\n",
    "import BooleanDOI_DOI as BDOI\n",
    "\n",
    "import cool_bool_tools as cbt\n",
    "\n",
    "import pystablemotifs as sm\n",
    "import pyboolnet\n",
    "import pystablemotifs.export as ex\n",
    "from collections import Counter\n"
   ]
  },
  {
   "cell_type": "code",
   "execution_count": 3,
   "metadata": {},
   "outputs": [],
   "source": [
    "import random\n",
    "\n",
    "def general_async_pick( lines ):\n",
    "    line = [ random.choice( lines )]\n",
    "    #print data\n",
    "    return line"
   ]
  },
  {
   "cell_type": "code",
   "execution_count": 4,
   "metadata": {},
   "outputs": [
    {
     "name": "stdout",
     "output_type": "stream",
     "text": [
      "6.9\n",
      "0.001006770820085637\n"
     ]
    }
   ],
   "source": [
    "import noise_config\n",
    "print(noise_config.epsilon)\n",
    "def sigmoid(epsilon, x):\n",
    "    return (1 / (1 + np.exp(-epsilon*(x))) )\n",
    "print(sigmoid(epsilon=noise_config.epsilon, x=-1))"
   ]
  },
  {
   "cell_type": "code",
   "execution_count": 5,
   "metadata": {},
   "outputs": [
    {
     "name": "stdout",
     "output_type": "stream",
     "text": [
      "6.906754778648553\n"
     ]
    }
   ],
   "source": [
    "p=0.001\n",
    "x=-1\n",
    "print(np.log(1-p)-np.log(p))"
   ]
  },
  {
   "cell_type": "code",
   "execution_count": 6,
   "metadata": {},
   "outputs": [],
   "source": [
    "#reading in the rules\n",
    "model_name='EMT30'\n",
    "rules=cbt.read_rules_text(model_name)"
   ]
  },
  {
   "cell_type": "code",
   "execution_count": 9,
   "metadata": {},
   "outputs": [],
   "source": [
    "#format the rules to be PyBoolNet compatible \n",
    "rules_pbn = sm.format.booleannet2bnet(rules)\n",
    "primes = pyboolnet.prime_implicants.bnet_text2primes(rules_pbn)\n",
    "max_simulate_size=20\n",
    "ar = sm.AttractorRepertoire.from_primes(primes, max_simulate_size=max_simulate_size)"
   ]
  },
  {
   "cell_type": "code",
   "execution_count": 10,
   "metadata": {},
   "outputs": [],
   "source": [
    "attractors=(-1+(2*ex.attractor_dataframe(ar).astype(int))).to_dict('index')\n"
   ]
  },
  {
   "cell_type": "markdown",
   "metadata": {},
   "source": [
    "## Sampling the noisy state space by running a large number of steps with every attractor being the initial state once. "
   ]
  },
  {
   "cell_type": "code",
   "execution_count": 12,
   "metadata": {},
   "outputs": [
    {
     "name": "stdout",
     "output_type": "stream",
     "text": [
      "0\n",
      "Percentage of all states visited:  2.60770320892334e-08\n",
      "1\n",
      "Percentage of all states visited:  3.91155481338501e-08\n",
      "2\n",
      "Percentage of all states visited:  3.4458935260772705e-08\n",
      "3\n",
      "Percentage of all states visited:  6.05359673500061e-08\n",
      "4\n",
      "Percentage of all states visited:  5.3085386753082275e-08\n",
      "5\n",
      "Percentage of all states visited:  2.0489096641540527e-08\n",
      "6\n",
      "Percentage of all states visited:  1.1175870895385742e-08\n"
     ]
    }
   ],
   "source": [
    "large_counter = Counter()\n",
    "model = boolean2.Model(rules, mode='async')\n",
    "\n",
    "nr_of_steps=10000 #increase this number to get better convergence\n",
    "\n",
    "fp_state_dict={}\n",
    "for attr_index,start_state in attractors.items():\n",
    "    print(attr_index)\n",
    "    model.initialize(lambda node: start_state[node])\n",
    "    model.iterate(nr_of_steps,shuffler=general_async_pick)\n",
    "    #print('Percentage of all states visited: ',float(len(model.states))/2**len(model.nodes))\n",
    "    fp_states=model.fp()\n",
    "    state_occurances=Counter(fp_states)\n",
    "    print('Percentage of all states visited: ',float(len(state_occurances))/2**len(model.nodes))\n",
    "    #edge_occurances=Counter([(fp_states[i-1], fp_states[i]) for i in range(len(fp_states))])\n",
    "    for i,fps in enumerate(model.fp()):\n",
    "        fp_state_dict[fps]=model.states[i]\n",
    "    large_counter+=state_occurances"
   ]
  },
  {
   "cell_type": "code",
   "execution_count": 13,
   "metadata": {},
   "outputs": [],
   "source": [
    "assert sum(large_counter.values())==len(attractors)*(nr_of_steps+1)\n"
   ]
  },
  {
   "cell_type": "code",
   "execution_count": 14,
   "metadata": {},
   "outputs": [],
   "source": [
    "total_nr_of_steps=sum(large_counter.values())"
   ]
  },
  {
   "cell_type": "code",
   "execution_count": 15,
   "metadata": {},
   "outputs": [
    {
     "name": "stdout",
     "output_type": "stream",
     "text": [
      "0 0.47655234476552344 ('Attractor ', 0)\n",
      "189 0.1326295941834388 ('Attractor ', 5)\n",
      "28 0.10684645821132173 ('Attractor ', 1)\n",
      "207 0.0986329938434728 ('Attractor ', 6)\n",
      "98 0.07222134929364206 ('Attractor ', 3)\n",
      "66 0.033568071764252146 ('Attractor ', 2)\n",
      "152 0.004770951476280943 ('Attractor ', 4)\n"
     ]
    }
   ],
   "source": [
    "attr_probabilities={}\n",
    "for i,j in large_counter.most_common():\n",
    "    attr_alert='not attractor'\n",
    "    for a_index,state in attractors.items():\n",
    "        \n",
    "        if state==dict(fp_state_dict[i]):\n",
    "            attr_alert='Attractor ',a_index\n",
    "            attr_probabilities[a_index]=float(j)/total_nr_of_steps\n",
    "            print(i, float(j)/total_nr_of_steps, attr_alert)\n",
    "    "
   ]
  },
  {
   "cell_type": "code",
   "execution_count": 16,
   "metadata": {},
   "outputs": [],
   "source": [
    "df_attr=ex.attractor_dataframe(ar)"
   ]
  },
  {
   "cell_type": "code",
   "execution_count": 17,
   "metadata": {},
   "outputs": [],
   "source": [
    "df_attr['attr_stability']=df_attr.index.map(attr_probabilities)"
   ]
  },
  {
   "cell_type": "code",
   "execution_count": 18,
   "metadata": {},
   "outputs": [
    {
     "data": {
      "text/html": [
       "<div>\n",
       "<style scoped>\n",
       "    .dataframe tbody tr th:only-of-type {\n",
       "        vertical-align: middle;\n",
       "    }\n",
       "\n",
       "    .dataframe tbody tr th {\n",
       "        vertical-align: top;\n",
       "    }\n",
       "\n",
       "    .dataframe thead th {\n",
       "        text-align: right;\n",
       "    }\n",
       "</style>\n",
       "<table border=\"1\" class=\"dataframe\">\n",
       "  <thead>\n",
       "    <tr style=\"text-align: right;\">\n",
       "      <th></th>\n",
       "      <th>AKT</th>\n",
       "      <th>AXIN2_cyto</th>\n",
       "      <th>AXIN2_nuc</th>\n",
       "      <th>Bcatenin_memb</th>\n",
       "      <th>Bcatenin_nuc</th>\n",
       "      <th>Dest_compl</th>\n",
       "      <th>Ecadherin</th>\n",
       "      <th>Ecadherin_CTF</th>\n",
       "      <th>GLI_cyto</th>\n",
       "      <th>GLI_nuc</th>\n",
       "      <th>...</th>\n",
       "      <th>SNAI2_nuc</th>\n",
       "      <th>SOS_GRB2</th>\n",
       "      <th>TGFBR</th>\n",
       "      <th>TGFBR_icd</th>\n",
       "      <th>TWIST1_nuc</th>\n",
       "      <th>ZEB1_cyto</th>\n",
       "      <th>ZEB1_nuc</th>\n",
       "      <th>ZEB2</th>\n",
       "      <th>miR200</th>\n",
       "      <th>attr_stability</th>\n",
       "    </tr>\n",
       "  </thead>\n",
       "  <tbody>\n",
       "    <tr>\n",
       "      <th>0</th>\n",
       "      <td>1</td>\n",
       "      <td>1</td>\n",
       "      <td>0</td>\n",
       "      <td>0</td>\n",
       "      <td>1</td>\n",
       "      <td>0</td>\n",
       "      <td>0</td>\n",
       "      <td>1</td>\n",
       "      <td>1</td>\n",
       "      <td>1</td>\n",
       "      <td>...</td>\n",
       "      <td>1</td>\n",
       "      <td>0</td>\n",
       "      <td>1</td>\n",
       "      <td>1</td>\n",
       "      <td>1</td>\n",
       "      <td>1</td>\n",
       "      <td>1</td>\n",
       "      <td>1</td>\n",
       "      <td>0</td>\n",
       "      <td>0.476552</td>\n",
       "    </tr>\n",
       "    <tr>\n",
       "      <th>1</th>\n",
       "      <td>0</td>\n",
       "      <td>1</td>\n",
       "      <td>0</td>\n",
       "      <td>0</td>\n",
       "      <td>0</td>\n",
       "      <td>1</td>\n",
       "      <td>0</td>\n",
       "      <td>1</td>\n",
       "      <td>0</td>\n",
       "      <td>0</td>\n",
       "      <td>...</td>\n",
       "      <td>0</td>\n",
       "      <td>0</td>\n",
       "      <td>0</td>\n",
       "      <td>0</td>\n",
       "      <td>0</td>\n",
       "      <td>0</td>\n",
       "      <td>0</td>\n",
       "      <td>0</td>\n",
       "      <td>1</td>\n",
       "      <td>0.106846</td>\n",
       "    </tr>\n",
       "    <tr>\n",
       "      <th>2</th>\n",
       "      <td>0</td>\n",
       "      <td>0</td>\n",
       "      <td>1</td>\n",
       "      <td>0</td>\n",
       "      <td>0</td>\n",
       "      <td>1</td>\n",
       "      <td>0</td>\n",
       "      <td>1</td>\n",
       "      <td>0</td>\n",
       "      <td>0</td>\n",
       "      <td>...</td>\n",
       "      <td>0</td>\n",
       "      <td>0</td>\n",
       "      <td>0</td>\n",
       "      <td>0</td>\n",
       "      <td>0</td>\n",
       "      <td>0</td>\n",
       "      <td>0</td>\n",
       "      <td>0</td>\n",
       "      <td>1</td>\n",
       "      <td>0.033568</td>\n",
       "    </tr>\n",
       "    <tr>\n",
       "      <th>3</th>\n",
       "      <td>0</td>\n",
       "      <td>1</td>\n",
       "      <td>0</td>\n",
       "      <td>1</td>\n",
       "      <td>0</td>\n",
       "      <td>1</td>\n",
       "      <td>1</td>\n",
       "      <td>0</td>\n",
       "      <td>0</td>\n",
       "      <td>0</td>\n",
       "      <td>...</td>\n",
       "      <td>0</td>\n",
       "      <td>0</td>\n",
       "      <td>0</td>\n",
       "      <td>0</td>\n",
       "      <td>0</td>\n",
       "      <td>0</td>\n",
       "      <td>0</td>\n",
       "      <td>0</td>\n",
       "      <td>1</td>\n",
       "      <td>0.072221</td>\n",
       "    </tr>\n",
       "    <tr>\n",
       "      <th>4</th>\n",
       "      <td>0</td>\n",
       "      <td>1</td>\n",
       "      <td>0</td>\n",
       "      <td>1</td>\n",
       "      <td>0</td>\n",
       "      <td>0</td>\n",
       "      <td>1</td>\n",
       "      <td>0</td>\n",
       "      <td>0</td>\n",
       "      <td>0</td>\n",
       "      <td>...</td>\n",
       "      <td>0</td>\n",
       "      <td>0</td>\n",
       "      <td>0</td>\n",
       "      <td>0</td>\n",
       "      <td>0</td>\n",
       "      <td>0</td>\n",
       "      <td>0</td>\n",
       "      <td>0</td>\n",
       "      <td>1</td>\n",
       "      <td>0.004771</td>\n",
       "    </tr>\n",
       "    <tr>\n",
       "      <th>5</th>\n",
       "      <td>0</td>\n",
       "      <td>0</td>\n",
       "      <td>1</td>\n",
       "      <td>1</td>\n",
       "      <td>0</td>\n",
       "      <td>1</td>\n",
       "      <td>1</td>\n",
       "      <td>0</td>\n",
       "      <td>0</td>\n",
       "      <td>0</td>\n",
       "      <td>...</td>\n",
       "      <td>0</td>\n",
       "      <td>0</td>\n",
       "      <td>0</td>\n",
       "      <td>0</td>\n",
       "      <td>0</td>\n",
       "      <td>0</td>\n",
       "      <td>0</td>\n",
       "      <td>0</td>\n",
       "      <td>1</td>\n",
       "      <td>0.132630</td>\n",
       "    </tr>\n",
       "    <tr>\n",
       "      <th>6</th>\n",
       "      <td>0</td>\n",
       "      <td>0</td>\n",
       "      <td>1</td>\n",
       "      <td>1</td>\n",
       "      <td>0</td>\n",
       "      <td>0</td>\n",
       "      <td>1</td>\n",
       "      <td>0</td>\n",
       "      <td>0</td>\n",
       "      <td>0</td>\n",
       "      <td>...</td>\n",
       "      <td>0</td>\n",
       "      <td>0</td>\n",
       "      <td>0</td>\n",
       "      <td>0</td>\n",
       "      <td>0</td>\n",
       "      <td>0</td>\n",
       "      <td>0</td>\n",
       "      <td>0</td>\n",
       "      <td>1</td>\n",
       "      <td>0.098633</td>\n",
       "    </tr>\n",
       "  </tbody>\n",
       "</table>\n",
       "<p>7 rows × 31 columns</p>\n",
       "</div>"
      ],
      "text/plain": [
       "  AKT AXIN2_cyto AXIN2_nuc Bcatenin_memb Bcatenin_nuc Dest_compl Ecadherin  \\\n",
       "0   1          1         0             0            1          0         0   \n",
       "1   0          1         0             0            0          1         0   \n",
       "2   0          0         1             0            0          1         0   \n",
       "3   0          1         0             1            0          1         1   \n",
       "4   0          1         0             1            0          0         1   \n",
       "5   0          0         1             1            0          1         1   \n",
       "6   0          0         1             1            0          0         1   \n",
       "\n",
       "  Ecadherin_CTF GLI_cyto GLI_nuc  ... SNAI2_nuc SOS_GRB2 TGFBR TGFBR_icd  \\\n",
       "0             1        1       1  ...         1        0     1         1   \n",
       "1             1        0       0  ...         0        0     0         0   \n",
       "2             1        0       0  ...         0        0     0         0   \n",
       "3             0        0       0  ...         0        0     0         0   \n",
       "4             0        0       0  ...         0        0     0         0   \n",
       "5             0        0       0  ...         0        0     0         0   \n",
       "6             0        0       0  ...         0        0     0         0   \n",
       "\n",
       "  TWIST1_nuc ZEB1_cyto ZEB1_nuc ZEB2 miR200 attr_stability  \n",
       "0          1         1        1    1      0       0.476552  \n",
       "1          0         0        0    0      1       0.106846  \n",
       "2          0         0        0    0      1       0.033568  \n",
       "3          0         0        0    0      1       0.072221  \n",
       "4          0         0        0    0      1       0.004771  \n",
       "5          0         0        0    0      1       0.132630  \n",
       "6          0         0        0    0      1       0.098633  \n",
       "\n",
       "[7 rows x 31 columns]"
      ]
     },
     "execution_count": 18,
     "metadata": {},
     "output_type": "execute_result"
    }
   ],
   "source": [
    "df_attr"
   ]
  },
  {
   "cell_type": "code",
   "execution_count": 19,
   "metadata": {},
   "outputs": [],
   "source": [
    "df_attr.to_excel('model_%s_attr_probabilities_p_error_%s.xlsx'%(model_name,str(p)))"
   ]
  },
  {
   "cell_type": "code",
   "execution_count": null,
   "metadata": {},
   "outputs": [],
   "source": []
  }
 ],
 "metadata": {
  "kernelspec": {
   "display_name": "Python 3",
   "language": "python",
   "name": "python3"
  },
  "language_info": {
   "codemirror_mode": {
    "name": "ipython",
    "version": 3
   },
   "file_extension": ".py",
   "mimetype": "text/x-python",
   "name": "python",
   "nbconvert_exporter": "python",
   "pygments_lexer": "ipython3",
   "version": "3.7.6"
  }
 },
 "nbformat": 4,
 "nbformat_minor": 2
}
