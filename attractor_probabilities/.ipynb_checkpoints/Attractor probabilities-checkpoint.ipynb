{
 "cells": [
  {
   "cell_type": "markdown",
   "metadata": {},
   "source": [
    "# Numerically determining the attractor stability by noisy update"
   ]
  },
  {
   "cell_type": "code",
   "execution_count": 1,
   "metadata": {},
   "outputs": [
    {
     "name": "stdout",
     "output_type": "stream",
     "text": [
      "\\@\n"
     ]
    },
    {
     "name": "stderr",
     "output_type": "stream",
     "text": [
      "\n",
      "Bad key \"text.kerning_factor\" on line 4 in\n",
      "/home/david/anaconda2/envs/python_3_env/lib/python3.7/site-packages/matplotlib/mpl-data/stylelib/_classic_test_patch.mplstyle.\n",
      "You probably need to get an updated matplotlibrc file from\n",
      "https://github.com/matplotlib/matplotlib/blob/v3.1.3/matplotlibrc.template\n",
      "or from the matplotlib source distribution\n"
     ]
    }
   ],
   "source": [
    "import sys\n",
    "sys.path.insert(0,'../attractr_repertoire_and_stable_motif_analysis/')\n",
    "sys.path.append('BooleanDOI-master/')\n",
    "import boolean2_modified as boolean2\n",
    "import numpy as np\n",
    "import matplotlib.pyplot as plt\n",
    "import networkx as nx\n",
    "import numpy as np\n",
    "\n",
    "import BooleanDOI_processing as BDOIp\n",
    "import BooleanDOI_TargetControl as BDOItc\n",
    "import BooleanDOI_DOI as BDOI\n",
    "\n",
    "import cool_bool_tools as cbt\n",
    "\n",
    "import StableMotifs as sm\n",
    "import PyBoolNet\n",
    "import StableMotifs.Export as ex\n",
    "from collections import Counter\n"
   ]
  },
  {
   "cell_type": "code",
   "execution_count": 2,
   "metadata": {},
   "outputs": [],
   "source": [
    "import random\n",
    "\n",
    "def general_async_pick( lines ):\n",
    "    line = [ random.choice( lines )]\n",
    "    #print data\n",
    "    return line"
   ]
  },
  {
   "cell_type": "code",
   "execution_count": 3,
   "metadata": {},
   "outputs": [
    {
     "name": "stdout",
     "output_type": "stream",
     "text": [
      "6.9\n",
      "0.001006770820085637\n"
     ]
    }
   ],
   "source": [
    "import noise_config\n",
    "print(noise_config.epsilon)\n",
    "def sigmoid(epsilon, x):\n",
    "    return (1 / (1 + np.exp(-epsilon*(x))) )\n",
    "print(sigmoid(epsilon=noise_config.epsilon, x=-1))"
   ]
  },
  {
   "cell_type": "code",
   "execution_count": 4,
   "metadata": {},
   "outputs": [
    {
     "name": "stdout",
     "output_type": "stream",
     "text": [
      "6.906754778648553\n"
     ]
    }
   ],
   "source": [
    "p=0.001\n",
    "x=-1\n",
    "print(np.log(1-p)-np.log(p))"
   ]
  },
  {
   "cell_type": "code",
   "execution_count": 5,
   "metadata": {},
   "outputs": [],
   "source": [
    "#reading in the rules\n",
    "model_name='EMT30'\n",
    "rules=cbt.read_rules_text(model_name)"
   ]
  },
  {
   "cell_type": "code",
   "execution_count": 6,
   "metadata": {},
   "outputs": [],
   "source": [
    "#format the rules to be PyBoolNet compatible \n",
    "rules_pbn = sm.Format.booleannet2bnet(rules)\n",
    "primes = PyBoolNet.FileExchange.bnet2primes(rules_pbn)\n",
    "max_simulate_size=20\n",
    "ar = sm.AttractorRepertoire.from_primes(primes, max_simulate_size=max_simulate_size)"
   ]
  },
  {
   "cell_type": "code",
   "execution_count": 7,
   "metadata": {},
   "outputs": [],
   "source": [
    "attractors=(-1+(2*ex.attractor_dataframe(ar).astype(int))).to_dict('index')\n"
   ]
  },
  {
   "cell_type": "markdown",
   "metadata": {},
   "source": [
    "## Sampling the noisy state space by running a large number of steps with every attractor being the initial state once. "
   ]
  },
  {
   "cell_type": "code",
   "execution_count": 8,
   "metadata": {},
   "outputs": [
    {
     "name": "stdout",
     "output_type": "stream",
     "text": [
      "0\n",
      "Percentage of all states visited:  2.514570951461792e-07\n",
      "1\n",
      "Percentage of all states visited:  2.8312206268310547e-07\n",
      "2\n",
      "Percentage of all states visited:  3.1851232051849365e-07\n",
      "3\n",
      "Percentage of all states visited:  3.1944364309310913e-07\n",
      "4\n",
      "Percentage of all states visited:  2.8312206268310547e-07\n",
      "5\n",
      "Percentage of all states visited:  3.632158041000366e-07\n",
      "6\n",
      "Percentage of all states visited:  3.427267074584961e-07\n"
     ]
    }
   ],
   "source": [
    "large_counter = Counter()\n",
    "model = boolean2.Model(rules, mode='async')\n",
    "nr_of_steps=1000000\n",
    "fp_state_dict={}\n",
    "for attr_index,start_state in attractors.items():\n",
    "    print(attr_index)\n",
    "    model.initialize(lambda node: start_state[node])\n",
    "    model.iterate(nr_of_steps,shuffler=general_async_pick)\n",
    "    #print('Percentage of all states visited: ',float(len(model.states))/2**len(model.nodes))\n",
    "    fp_states=model.fp()\n",
    "    state_occurances=Counter(fp_states)\n",
    "    print('Percentage of all states visited: ',float(len(state_occurances))/2**len(model.nodes))\n",
    "    #edge_occurances=Counter([(fp_states[i-1], fp_states[i]) for i in range(len(fp_states))])\n",
    "    for i,fps in enumerate(model.fp()):\n",
    "        fp_state_dict[fps]=model.states[i]\n",
    "    large_counter+=state_occurances"
   ]
  },
  {
   "cell_type": "code",
   "execution_count": 9,
   "metadata": {},
   "outputs": [],
   "source": [
    "assert sum(large_counter.values())==len(attractors)*(nr_of_steps+1)\n"
   ]
  },
  {
   "cell_type": "code",
   "execution_count": 10,
   "metadata": {},
   "outputs": [],
   "source": [
    "total_nr_of_stepsb=sum(large_counter.values())"
   ]
  },
  {
   "cell_type": "code",
   "execution_count": 11,
   "metadata": {},
   "outputs": [
    {
     "name": "stdout",
     "output_type": "stream",
     "text": [
      "0 0.9461669109759462 ('Attractor ', 0)\n",
      "270 0.0017182839960017183 ('Attractor ', 1)\n",
      "717 0.0010967131890010967 ('Attractor ', 4)\n",
      "723 0.00045614240100045613 ('Attractor ', 6)\n",
      "414 0.0003317139540003317 ('Attractor ', 2)\n",
      "722 0.0003125711160003126 ('Attractor ', 5)\n",
      "417 0.00021614264100021615 ('Attractor ', 3)\n"
     ]
    }
   ],
   "source": [
    "attr_probabilities={}\n",
    "for i,j in large_counter.most_common():\n",
    "    attr_alert='not attractor'\n",
    "    for a_index,state in attractors.items():\n",
    "        \n",
    "        if state==dict(fp_state_dict[i]):\n",
    "            attr_alert='Attractor ',a_index\n",
    "            attr_probabilities[a_index]=float(j)/total_nr_of_steps\n",
    "            print(i, float(j)/total_nr_of_steps, attr_alert)\n",
    "    "
   ]
  },
  {
   "cell_type": "code",
   "execution_count": 12,
   "metadata": {},
   "outputs": [],
   "source": [
    "df_attr=ex.attractor_dataframe(ar)"
   ]
  },
  {
   "cell_type": "code",
   "execution_count": 13,
   "metadata": {},
   "outputs": [],
   "source": [
    "df_attr['attr_stability']=df_attr.index.map(attr_probabilities)"
   ]
  },
  {
   "cell_type": "code",
   "execution_count": 14,
   "metadata": {},
   "outputs": [
    {
     "data": {
      "text/html": [
       "<div>\n",
       "<style scoped>\n",
       "    .dataframe tbody tr th:only-of-type {\n",
       "        vertical-align: middle;\n",
       "    }\n",
       "\n",
       "    .dataframe tbody tr th {\n",
       "        vertical-align: top;\n",
       "    }\n",
       "\n",
       "    .dataframe thead th {\n",
       "        text-align: right;\n",
       "    }\n",
       "</style>\n",
       "<table border=\"1\" class=\"dataframe\">\n",
       "  <thead>\n",
       "    <tr style=\"text-align: right;\">\n",
       "      <th></th>\n",
       "      <th>AKT</th>\n",
       "      <th>AXIN2_cyto</th>\n",
       "      <th>AXIN2_nuc</th>\n",
       "      <th>Bcatenin_memb</th>\n",
       "      <th>Bcatenin_nuc</th>\n",
       "      <th>Dest_compl</th>\n",
       "      <th>Ecadherin</th>\n",
       "      <th>Ecadherin_CTF</th>\n",
       "      <th>GLI_cyto</th>\n",
       "      <th>GLI_nuc</th>\n",
       "      <th>...</th>\n",
       "      <th>SNAI2_nuc</th>\n",
       "      <th>SOS_GRB2</th>\n",
       "      <th>TGFBR</th>\n",
       "      <th>TGFBR_icd</th>\n",
       "      <th>TWIST1_nuc</th>\n",
       "      <th>ZEB1_cyto</th>\n",
       "      <th>ZEB1_nuc</th>\n",
       "      <th>ZEB2</th>\n",
       "      <th>miR200</th>\n",
       "      <th>attr_stability</th>\n",
       "    </tr>\n",
       "  </thead>\n",
       "  <tbody>\n",
       "    <tr>\n",
       "      <th>0</th>\n",
       "      <td>1</td>\n",
       "      <td>1</td>\n",
       "      <td>0</td>\n",
       "      <td>0</td>\n",
       "      <td>1</td>\n",
       "      <td>0</td>\n",
       "      <td>0</td>\n",
       "      <td>1</td>\n",
       "      <td>1</td>\n",
       "      <td>1</td>\n",
       "      <td>...</td>\n",
       "      <td>1</td>\n",
       "      <td>0</td>\n",
       "      <td>1</td>\n",
       "      <td>1</td>\n",
       "      <td>1</td>\n",
       "      <td>1</td>\n",
       "      <td>1</td>\n",
       "      <td>1</td>\n",
       "      <td>0</td>\n",
       "      <td>0.946167</td>\n",
       "    </tr>\n",
       "    <tr>\n",
       "      <th>1</th>\n",
       "      <td>0</td>\n",
       "      <td>1</td>\n",
       "      <td>0</td>\n",
       "      <td>0</td>\n",
       "      <td>0</td>\n",
       "      <td>1</td>\n",
       "      <td>0</td>\n",
       "      <td>1</td>\n",
       "      <td>0</td>\n",
       "      <td>0</td>\n",
       "      <td>...</td>\n",
       "      <td>0</td>\n",
       "      <td>0</td>\n",
       "      <td>0</td>\n",
       "      <td>0</td>\n",
       "      <td>0</td>\n",
       "      <td>0</td>\n",
       "      <td>0</td>\n",
       "      <td>0</td>\n",
       "      <td>1</td>\n",
       "      <td>0.001718</td>\n",
       "    </tr>\n",
       "    <tr>\n",
       "      <th>2</th>\n",
       "      <td>0</td>\n",
       "      <td>1</td>\n",
       "      <td>0</td>\n",
       "      <td>1</td>\n",
       "      <td>0</td>\n",
       "      <td>1</td>\n",
       "      <td>1</td>\n",
       "      <td>0</td>\n",
       "      <td>0</td>\n",
       "      <td>0</td>\n",
       "      <td>...</td>\n",
       "      <td>0</td>\n",
       "      <td>0</td>\n",
       "      <td>0</td>\n",
       "      <td>0</td>\n",
       "      <td>0</td>\n",
       "      <td>0</td>\n",
       "      <td>0</td>\n",
       "      <td>0</td>\n",
       "      <td>1</td>\n",
       "      <td>0.000332</td>\n",
       "    </tr>\n",
       "    <tr>\n",
       "      <th>3</th>\n",
       "      <td>0</td>\n",
       "      <td>1</td>\n",
       "      <td>0</td>\n",
       "      <td>1</td>\n",
       "      <td>0</td>\n",
       "      <td>0</td>\n",
       "      <td>1</td>\n",
       "      <td>0</td>\n",
       "      <td>0</td>\n",
       "      <td>0</td>\n",
       "      <td>...</td>\n",
       "      <td>0</td>\n",
       "      <td>0</td>\n",
       "      <td>0</td>\n",
       "      <td>0</td>\n",
       "      <td>0</td>\n",
       "      <td>0</td>\n",
       "      <td>0</td>\n",
       "      <td>0</td>\n",
       "      <td>1</td>\n",
       "      <td>0.000216</td>\n",
       "    </tr>\n",
       "    <tr>\n",
       "      <th>4</th>\n",
       "      <td>0</td>\n",
       "      <td>0</td>\n",
       "      <td>1</td>\n",
       "      <td>0</td>\n",
       "      <td>0</td>\n",
       "      <td>1</td>\n",
       "      <td>0</td>\n",
       "      <td>1</td>\n",
       "      <td>0</td>\n",
       "      <td>0</td>\n",
       "      <td>...</td>\n",
       "      <td>0</td>\n",
       "      <td>0</td>\n",
       "      <td>0</td>\n",
       "      <td>0</td>\n",
       "      <td>0</td>\n",
       "      <td>0</td>\n",
       "      <td>0</td>\n",
       "      <td>0</td>\n",
       "      <td>1</td>\n",
       "      <td>0.001097</td>\n",
       "    </tr>\n",
       "    <tr>\n",
       "      <th>5</th>\n",
       "      <td>0</td>\n",
       "      <td>0</td>\n",
       "      <td>1</td>\n",
       "      <td>1</td>\n",
       "      <td>0</td>\n",
       "      <td>1</td>\n",
       "      <td>1</td>\n",
       "      <td>0</td>\n",
       "      <td>0</td>\n",
       "      <td>0</td>\n",
       "      <td>...</td>\n",
       "      <td>0</td>\n",
       "      <td>0</td>\n",
       "      <td>0</td>\n",
       "      <td>0</td>\n",
       "      <td>0</td>\n",
       "      <td>0</td>\n",
       "      <td>0</td>\n",
       "      <td>0</td>\n",
       "      <td>1</td>\n",
       "      <td>0.000313</td>\n",
       "    </tr>\n",
       "    <tr>\n",
       "      <th>6</th>\n",
       "      <td>0</td>\n",
       "      <td>0</td>\n",
       "      <td>1</td>\n",
       "      <td>1</td>\n",
       "      <td>0</td>\n",
       "      <td>0</td>\n",
       "      <td>1</td>\n",
       "      <td>0</td>\n",
       "      <td>0</td>\n",
       "      <td>0</td>\n",
       "      <td>...</td>\n",
       "      <td>0</td>\n",
       "      <td>0</td>\n",
       "      <td>0</td>\n",
       "      <td>0</td>\n",
       "      <td>0</td>\n",
       "      <td>0</td>\n",
       "      <td>0</td>\n",
       "      <td>0</td>\n",
       "      <td>1</td>\n",
       "      <td>0.000456</td>\n",
       "    </tr>\n",
       "  </tbody>\n",
       "</table>\n",
       "<p>7 rows × 31 columns</p>\n",
       "</div>"
      ],
      "text/plain": [
       "  AKT AXIN2_cyto AXIN2_nuc Bcatenin_memb Bcatenin_nuc Dest_compl Ecadherin  \\\n",
       "0   1          1         0             0            1          0         0   \n",
       "1   0          1         0             0            0          1         0   \n",
       "2   0          1         0             1            0          1         1   \n",
       "3   0          1         0             1            0          0         1   \n",
       "4   0          0         1             0            0          1         0   \n",
       "5   0          0         1             1            0          1         1   \n",
       "6   0          0         1             1            0          0         1   \n",
       "\n",
       "  Ecadherin_CTF GLI_cyto GLI_nuc  ... SNAI2_nuc SOS_GRB2 TGFBR TGFBR_icd  \\\n",
       "0             1        1       1  ...         1        0     1         1   \n",
       "1             1        0       0  ...         0        0     0         0   \n",
       "2             0        0       0  ...         0        0     0         0   \n",
       "3             0        0       0  ...         0        0     0         0   \n",
       "4             1        0       0  ...         0        0     0         0   \n",
       "5             0        0       0  ...         0        0     0         0   \n",
       "6             0        0       0  ...         0        0     0         0   \n",
       "\n",
       "  TWIST1_nuc ZEB1_cyto ZEB1_nuc ZEB2 miR200 attr_stability  \n",
       "0          1         1        1    1      0       0.946167  \n",
       "1          0         0        0    0      1       0.001718  \n",
       "2          0         0        0    0      1       0.000332  \n",
       "3          0         0        0    0      1       0.000216  \n",
       "4          0         0        0    0      1       0.001097  \n",
       "5          0         0        0    0      1       0.000313  \n",
       "6          0         0        0    0      1       0.000456  \n",
       "\n",
       "[7 rows x 31 columns]"
      ]
     },
     "execution_count": 14,
     "metadata": {},
     "output_type": "execute_result"
    }
   ],
   "source": [
    "df_attr"
   ]
  },
  {
   "cell_type": "code",
   "execution_count": 15,
   "metadata": {},
   "outputs": [],
   "source": [
    "df_attr.to_excel('model_%s_attr_probabilities_p_error_%s.xlsx'%(model_name,str(p)))"
   ]
  }
 ],
 "metadata": {
  "kernelspec": {
   "display_name": "Python 3",
   "language": "python",
   "name": "python3"
  },
  "language_info": {
   "codemirror_mode": {
    "name": "ipython",
    "version": 3
   },
   "file_extension": ".py",
   "mimetype": "text/x-python",
   "name": "python",
   "nbconvert_exporter": "python",
   "pygments_lexer": "ipython3",
   "version": "3.7.6"
  }
 },
 "nbformat": 4,
 "nbformat_minor": 2
}
