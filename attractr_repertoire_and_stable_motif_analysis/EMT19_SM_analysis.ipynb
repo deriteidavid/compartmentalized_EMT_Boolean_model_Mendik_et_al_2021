{
 "cells": [
  {
   "cell_type": "markdown",
   "metadata": {},
   "source": [
    "# StableMotif of the EMT model of Steinway et al."
   ]
  },
  {
   "cell_type": "markdown",
   "metadata": {},
   "source": [
    "The code is a direct application of the Tutorial notebook form: https://github.com/jcrozum/PyStableMotifs"
   ]
  },
  {
   "cell_type": "code",
   "execution_count": 1,
   "metadata": {},
   "outputs": [
    {
     "name": "stdout",
     "output_type": "stream",
     "text": [
      "WARNING In /home/david/anaconda2/envs/python_3_env/lib/python3.7/site-packages/matplotlib/mpl-data/stylelib/_classic_test.mplstyle: \n",
      "The text.latex.preview rcparam was deprecated in Matplotlib 3.3 and will be removed two minor releases later.\n",
      "WARNING In /home/david/anaconda2/envs/python_3_env/lib/python3.7/site-packages/matplotlib/mpl-data/stylelib/_classic_test.mplstyle: \n",
      "The mathtext.fallback_to_cm rcparam was deprecated in Matplotlib 3.3 and will be removed two minor releases later.\n",
      "WARNING In /home/david/anaconda2/envs/python_3_env/lib/python3.7/site-packages/matplotlib/mpl-data/stylelib/_classic_test.mplstyle: Support for setting the 'mathtext.fallback_to_cm' rcParam is deprecated since 3.3 and will be removed two minor releases later; use 'mathtext.fallback : 'cm' instead.\n",
      "WARNING In /home/david/anaconda2/envs/python_3_env/lib/python3.7/site-packages/matplotlib/mpl-data/stylelib/_classic_test.mplstyle: \n",
      "The validate_bool_maybe_none function was deprecated in Matplotlib 3.3 and will be removed two minor releases later.\n",
      "WARNING In /home/david/anaconda2/envs/python_3_env/lib/python3.7/site-packages/matplotlib/mpl-data/stylelib/_classic_test.mplstyle: \n",
      "The savefig.jpeg_quality rcparam was deprecated in Matplotlib 3.3 and will be removed two minor releases later.\n",
      "WARNING In /home/david/anaconda2/envs/python_3_env/lib/python3.7/site-packages/matplotlib/mpl-data/stylelib/_classic_test.mplstyle: \n",
      "The keymap.all_axes rcparam was deprecated in Matplotlib 3.3 and will be removed two minor releases later.\n",
      "WARNING In /home/david/anaconda2/envs/python_3_env/lib/python3.7/site-packages/matplotlib/mpl-data/stylelib/_classic_test.mplstyle: \n",
      "The animation.avconv_path rcparam was deprecated in Matplotlib 3.3 and will be removed two minor releases later.\n",
      "WARNING In /home/david/anaconda2/envs/python_3_env/lib/python3.7/site-packages/matplotlib/mpl-data/stylelib/_classic_test.mplstyle: \n",
      "The animation.avconv_args rcparam was deprecated in Matplotlib 3.3 and will be removed two minor releases later.\n"
     ]
    }
   ],
   "source": [
    "import pystablemotifs as sm\n",
    "import pyboolnet\n",
    "import pystablemotifs.export as ex\n",
    "import pandas as pd"
   ]
  },
  {
   "cell_type": "markdown",
   "metadata": {},
   "source": [
    "## Read in a Boolean model:"
   ]
  },
  {
   "cell_type": "code",
   "execution_count": 2,
   "metadata": {
    "scrolled": true
   },
   "outputs": [
    {
     "name": "stdout",
     "output_type": "stream",
     "text": [
      "ZEB1*= SNAI1 and not miR200\n",
      "SMAD*= (MEK or TGFBR) and (ZEB1 or not ZEB2)\n",
      "GSK3B*= not GLI and not AKT\n",
      "SNAI1*= GLI or SMAD or Bcatenin_nuc or TGFBR or NOTCH or MEK or AKT or not GSK3B\n",
      "AKT*= SMAD or SOS_GRB2 or not GSK3B or Bcatenin_nuc\n",
      "Dest_compl*= (GSK3B and AXIN2 and Bcatenin_nuc) or (GSK3B and Dest_compl)\n",
      "Ecadherin*= Bcatenin_memb and (not SNAI1 or (not NOTCH and not SMAD) or not ZEB1 or not ZEB2 or not TWIST1 or not SNAI2)\n",
      "MEK*= SOS_GRB2 or not GSK3B or Bcatenin_nuc or not (not MEK or not SNAI1)\n",
      "NOTCH*= SOS_GRB2 or not GSK3B or Bcatenin_nuc or SMAD\n",
      "miR200*= not SNAI1 and not ZEB1 and not ZEB2\n",
      "TGFBR*= SNAI1 or TWIST1 or GLI\n",
      "TWIST1*= AKT or Bcatenin_nuc or SNAI1\n",
      "ZEB2*= SNAI1 and not miR200\n",
      "AXIN2*= AXIN2 or Bcatenin_nuc\n",
      "Bcatenin_memb*= Ecadherin and not Bcatenin_nuc\n",
      "Bcatenin_nuc*= not Dest_compl and not Bcatenin_memb and (SMAD or GLI or not Ecadherin)\n",
      "GLI*= Bcatenin_nuc or SMAD or GLI\n",
      "SNAI2*= MEK or Bcatenin_nuc or SNAI2 or TWIST1\n",
      "SOS_GRB2*= (Bcatenin_nuc or TGFBR) and not MEK\n",
      "\n"
     ]
    }
   ],
   "source": [
    "with open('EMT19.booleannet', 'r') as f:\n",
    "    rules=f.read()\n",
    "\n",
    "print(rules)"
   ]
  },
  {
   "cell_type": "code",
   "execution_count": 3,
   "metadata": {},
   "outputs": [],
   "source": [
    "#format the rules to be PyBoolNet compatible \n",
    "rules_pbn = sm.format.booleannet2bnet(rules)\n",
    "primes = pyboolnet.prime_implicants.bnet_text2primes(rules_pbn)\n"
   ]
  },
  {
   "cell_type": "markdown",
   "metadata": {},
   "source": [
    "## Generating the Attractor repertoire"
   ]
  },
  {
   "cell_type": "code",
   "execution_count": 4,
   "metadata": {},
   "outputs": [],
   "source": [
    "#explanation of the parameter\n",
    "max_simulate_size=20"
   ]
  },
  {
   "cell_type": "code",
   "execution_count": 5,
   "metadata": {},
   "outputs": [],
   "source": [
    "ar = sm.AttractorRepertoire.from_primes(primes, max_simulate_size=max_simulate_size)"
   ]
  },
  {
   "cell_type": "markdown",
   "metadata": {},
   "source": [
    "### What do we know about the attractors?"
   ]
  },
  {
   "cell_type": "code",
   "execution_count": 6,
   "metadata": {},
   "outputs": [
    {
     "name": "stdout",
     "output_type": "stream",
     "text": [
      "There are 13 attractors.\n",
      "{'AKT': 1, 'AXIN2': 1, 'Bcatenin_memb': 0, 'Bcatenin_nuc': 1, 'Dest_compl': 0, 'Ecadherin': 0, 'GLI': 1, 'GSK3B': 0, 'MEK': 1, 'NOTCH': 1, 'SMAD': 1, 'SNAI1': 1, 'SNAI2': 1, 'SOS_GRB2': 0, 'TGFBR': 1, 'TWIST1': 1, 'ZEB1': 1, 'ZEB2': 1, 'miR200': 0}\n",
      "\n",
      "{'AKT': 0, 'AXIN2': 1, 'Bcatenin_memb': 0, 'Bcatenin_nuc': 0, 'Dest_compl': 1, 'Ecadherin': 0, 'GLI': 0, 'GSK3B': 1, 'MEK': 0, 'NOTCH': 0, 'SMAD': 0, 'SNAI1': 0, 'SNAI2': 1, 'SOS_GRB2': 0, 'TGFBR': 0, 'TWIST1': 0, 'ZEB1': 0, 'ZEB2': 0, 'miR200': 1}\n",
      "\n",
      "{'AKT': 0, 'AXIN2': 0, 'Bcatenin_memb': 0, 'Bcatenin_nuc': 0, 'Dest_compl': 1, 'Ecadherin': 0, 'GLI': 0, 'GSK3B': 1, 'MEK': 0, 'NOTCH': 0, 'SMAD': 0, 'SNAI1': 0, 'SNAI2': 1, 'SOS_GRB2': 0, 'TGFBR': 0, 'TWIST1': 0, 'ZEB1': 0, 'ZEB2': 0, 'miR200': 1}\n",
      "\n",
      "{'AKT': 0, 'AXIN2': 1, 'Bcatenin_memb': 0, 'Bcatenin_nuc': 0, 'Dest_compl': 1, 'Ecadherin': 0, 'GLI': 0, 'GSK3B': 1, 'MEK': 0, 'NOTCH': 0, 'SMAD': 0, 'SNAI1': 0, 'SNAI2': 0, 'SOS_GRB2': 0, 'TGFBR': 0, 'TWIST1': 0, 'ZEB1': 0, 'ZEB2': 0, 'miR200': 1}\n",
      "\n",
      "{'AKT': 0, 'AXIN2': 0, 'Bcatenin_memb': 0, 'Bcatenin_nuc': 0, 'Dest_compl': 1, 'Ecadherin': 0, 'GLI': 0, 'GSK3B': 1, 'MEK': 0, 'NOTCH': 0, 'SMAD': 0, 'SNAI1': 0, 'SNAI2': 0, 'SOS_GRB2': 0, 'TGFBR': 0, 'TWIST1': 0, 'ZEB1': 0, 'ZEB2': 0, 'miR200': 1}\n",
      "\n",
      "{'AKT': 0, 'AXIN2': 1, 'Bcatenin_memb': 1, 'Bcatenin_nuc': 0, 'Dest_compl': 1, 'Ecadherin': 1, 'GLI': 0, 'GSK3B': 1, 'MEK': 0, 'NOTCH': 0, 'SMAD': 0, 'SNAI1': 0, 'SNAI2': 1, 'SOS_GRB2': 0, 'TGFBR': 0, 'TWIST1': 0, 'ZEB1': 0, 'ZEB2': 0, 'miR200': 1}\n",
      "\n",
      "{'AKT': 0, 'AXIN2': 1, 'Bcatenin_memb': 1, 'Bcatenin_nuc': 0, 'Dest_compl': 0, 'Ecadherin': 1, 'GLI': 0, 'GSK3B': 1, 'MEK': 0, 'NOTCH': 0, 'SMAD': 0, 'SNAI1': 0, 'SNAI2': 1, 'SOS_GRB2': 0, 'TGFBR': 0, 'TWIST1': 0, 'ZEB1': 0, 'ZEB2': 0, 'miR200': 1}\n",
      "\n",
      "{'AKT': 0, 'AXIN2': 0, 'Bcatenin_memb': 1, 'Bcatenin_nuc': 0, 'Dest_compl': 1, 'Ecadherin': 1, 'GLI': 0, 'GSK3B': 1, 'MEK': 0, 'NOTCH': 0, 'SMAD': 0, 'SNAI1': 0, 'SNAI2': 1, 'SOS_GRB2': 0, 'TGFBR': 0, 'TWIST1': 0, 'ZEB1': 0, 'ZEB2': 0, 'miR200': 1}\n",
      "\n",
      "{'AKT': 0, 'AXIN2': 0, 'Bcatenin_memb': 1, 'Bcatenin_nuc': 0, 'Dest_compl': 0, 'Ecadherin': 1, 'GLI': 0, 'GSK3B': 1, 'MEK': 0, 'NOTCH': 0, 'SMAD': 0, 'SNAI1': 0, 'SNAI2': 1, 'SOS_GRB2': 0, 'TGFBR': 0, 'TWIST1': 0, 'ZEB1': 0, 'ZEB2': 0, 'miR200': 1}\n",
      "\n",
      "{'AKT': 0, 'AXIN2': 1, 'Bcatenin_memb': 1, 'Bcatenin_nuc': 0, 'Dest_compl': 1, 'Ecadherin': 1, 'GLI': 0, 'GSK3B': 1, 'MEK': 0, 'NOTCH': 0, 'SMAD': 0, 'SNAI1': 0, 'SNAI2': 0, 'SOS_GRB2': 0, 'TGFBR': 0, 'TWIST1': 0, 'ZEB1': 0, 'ZEB2': 0, 'miR200': 1}\n",
      "\n",
      "{'AKT': 0, 'AXIN2': 1, 'Bcatenin_memb': 1, 'Bcatenin_nuc': 0, 'Dest_compl': 0, 'Ecadherin': 1, 'GLI': 0, 'GSK3B': 1, 'MEK': 0, 'NOTCH': 0, 'SMAD': 0, 'SNAI1': 0, 'SNAI2': 0, 'SOS_GRB2': 0, 'TGFBR': 0, 'TWIST1': 0, 'ZEB1': 0, 'ZEB2': 0, 'miR200': 1}\n",
      "\n",
      "{'AKT': 0, 'AXIN2': 0, 'Bcatenin_memb': 1, 'Bcatenin_nuc': 0, 'Dest_compl': 1, 'Ecadherin': 1, 'GLI': 0, 'GSK3B': 1, 'MEK': 0, 'NOTCH': 0, 'SMAD': 0, 'SNAI1': 0, 'SNAI2': 0, 'SOS_GRB2': 0, 'TGFBR': 0, 'TWIST1': 0, 'ZEB1': 0, 'ZEB2': 0, 'miR200': 1}\n",
      "\n",
      "{'AKT': 0, 'AXIN2': 0, 'Bcatenin_memb': 1, 'Bcatenin_nuc': 0, 'Dest_compl': 0, 'Ecadherin': 1, 'GLI': 0, 'GSK3B': 1, 'MEK': 0, 'NOTCH': 0, 'SMAD': 0, 'SNAI1': 0, 'SNAI2': 0, 'SOS_GRB2': 0, 'TGFBR': 0, 'TWIST1': 0, 'ZEB1': 0, 'ZEB2': 0, 'miR200': 1}\n",
      "\n"
     ]
    }
   ],
   "source": [
    "#Summary of the attractors:\n",
    "ar.summary()"
   ]
  },
  {
   "cell_type": "markdown",
   "metadata": {},
   "source": [
    "If we want the attractors in a DataFrame:"
   ]
  },
  {
   "cell_type": "code",
   "execution_count": 7,
   "metadata": {},
   "outputs": [
    {
     "data": {
      "text/html": [
       "<div>\n",
       "<style scoped>\n",
       "    .dataframe tbody tr th:only-of-type {\n",
       "        vertical-align: middle;\n",
       "    }\n",
       "\n",
       "    .dataframe tbody tr th {\n",
       "        vertical-align: top;\n",
       "    }\n",
       "\n",
       "    .dataframe thead th {\n",
       "        text-align: right;\n",
       "    }\n",
       "</style>\n",
       "<table border=\"1\" class=\"dataframe\">\n",
       "  <thead>\n",
       "    <tr style=\"text-align: right;\">\n",
       "      <th></th>\n",
       "      <th>AKT</th>\n",
       "      <th>AXIN2</th>\n",
       "      <th>Bcatenin_memb</th>\n",
       "      <th>Bcatenin_nuc</th>\n",
       "      <th>Dest_compl</th>\n",
       "      <th>Ecadherin</th>\n",
       "      <th>GLI</th>\n",
       "      <th>GSK3B</th>\n",
       "      <th>MEK</th>\n",
       "      <th>NOTCH</th>\n",
       "      <th>SMAD</th>\n",
       "      <th>SNAI1</th>\n",
       "      <th>SNAI2</th>\n",
       "      <th>SOS_GRB2</th>\n",
       "      <th>TGFBR</th>\n",
       "      <th>TWIST1</th>\n",
       "      <th>ZEB1</th>\n",
       "      <th>ZEB2</th>\n",
       "      <th>miR200</th>\n",
       "    </tr>\n",
       "  </thead>\n",
       "  <tbody>\n",
       "    <tr>\n",
       "      <th>0</th>\n",
       "      <td>1</td>\n",
       "      <td>1</td>\n",
       "      <td>0</td>\n",
       "      <td>1</td>\n",
       "      <td>0</td>\n",
       "      <td>0</td>\n",
       "      <td>1</td>\n",
       "      <td>0</td>\n",
       "      <td>1</td>\n",
       "      <td>1</td>\n",
       "      <td>1</td>\n",
       "      <td>1</td>\n",
       "      <td>1</td>\n",
       "      <td>0</td>\n",
       "      <td>1</td>\n",
       "      <td>1</td>\n",
       "      <td>1</td>\n",
       "      <td>1</td>\n",
       "      <td>0</td>\n",
       "    </tr>\n",
       "    <tr>\n",
       "      <th>1</th>\n",
       "      <td>0</td>\n",
       "      <td>1</td>\n",
       "      <td>0</td>\n",
       "      <td>0</td>\n",
       "      <td>1</td>\n",
       "      <td>0</td>\n",
       "      <td>0</td>\n",
       "      <td>1</td>\n",
       "      <td>0</td>\n",
       "      <td>0</td>\n",
       "      <td>0</td>\n",
       "      <td>0</td>\n",
       "      <td>1</td>\n",
       "      <td>0</td>\n",
       "      <td>0</td>\n",
       "      <td>0</td>\n",
       "      <td>0</td>\n",
       "      <td>0</td>\n",
       "      <td>1</td>\n",
       "    </tr>\n",
       "    <tr>\n",
       "      <th>2</th>\n",
       "      <td>0</td>\n",
       "      <td>0</td>\n",
       "      <td>0</td>\n",
       "      <td>0</td>\n",
       "      <td>1</td>\n",
       "      <td>0</td>\n",
       "      <td>0</td>\n",
       "      <td>1</td>\n",
       "      <td>0</td>\n",
       "      <td>0</td>\n",
       "      <td>0</td>\n",
       "      <td>0</td>\n",
       "      <td>1</td>\n",
       "      <td>0</td>\n",
       "      <td>0</td>\n",
       "      <td>0</td>\n",
       "      <td>0</td>\n",
       "      <td>0</td>\n",
       "      <td>1</td>\n",
       "    </tr>\n",
       "    <tr>\n",
       "      <th>3</th>\n",
       "      <td>0</td>\n",
       "      <td>1</td>\n",
       "      <td>0</td>\n",
       "      <td>0</td>\n",
       "      <td>1</td>\n",
       "      <td>0</td>\n",
       "      <td>0</td>\n",
       "      <td>1</td>\n",
       "      <td>0</td>\n",
       "      <td>0</td>\n",
       "      <td>0</td>\n",
       "      <td>0</td>\n",
       "      <td>0</td>\n",
       "      <td>0</td>\n",
       "      <td>0</td>\n",
       "      <td>0</td>\n",
       "      <td>0</td>\n",
       "      <td>0</td>\n",
       "      <td>1</td>\n",
       "    </tr>\n",
       "    <tr>\n",
       "      <th>4</th>\n",
       "      <td>0</td>\n",
       "      <td>0</td>\n",
       "      <td>0</td>\n",
       "      <td>0</td>\n",
       "      <td>1</td>\n",
       "      <td>0</td>\n",
       "      <td>0</td>\n",
       "      <td>1</td>\n",
       "      <td>0</td>\n",
       "      <td>0</td>\n",
       "      <td>0</td>\n",
       "      <td>0</td>\n",
       "      <td>0</td>\n",
       "      <td>0</td>\n",
       "      <td>0</td>\n",
       "      <td>0</td>\n",
       "      <td>0</td>\n",
       "      <td>0</td>\n",
       "      <td>1</td>\n",
       "    </tr>\n",
       "    <tr>\n",
       "      <th>5</th>\n",
       "      <td>0</td>\n",
       "      <td>1</td>\n",
       "      <td>1</td>\n",
       "      <td>0</td>\n",
       "      <td>1</td>\n",
       "      <td>1</td>\n",
       "      <td>0</td>\n",
       "      <td>1</td>\n",
       "      <td>0</td>\n",
       "      <td>0</td>\n",
       "      <td>0</td>\n",
       "      <td>0</td>\n",
       "      <td>1</td>\n",
       "      <td>0</td>\n",
       "      <td>0</td>\n",
       "      <td>0</td>\n",
       "      <td>0</td>\n",
       "      <td>0</td>\n",
       "      <td>1</td>\n",
       "    </tr>\n",
       "    <tr>\n",
       "      <th>6</th>\n",
       "      <td>0</td>\n",
       "      <td>1</td>\n",
       "      <td>1</td>\n",
       "      <td>0</td>\n",
       "      <td>0</td>\n",
       "      <td>1</td>\n",
       "      <td>0</td>\n",
       "      <td>1</td>\n",
       "      <td>0</td>\n",
       "      <td>0</td>\n",
       "      <td>0</td>\n",
       "      <td>0</td>\n",
       "      <td>1</td>\n",
       "      <td>0</td>\n",
       "      <td>0</td>\n",
       "      <td>0</td>\n",
       "      <td>0</td>\n",
       "      <td>0</td>\n",
       "      <td>1</td>\n",
       "    </tr>\n",
       "    <tr>\n",
       "      <th>7</th>\n",
       "      <td>0</td>\n",
       "      <td>0</td>\n",
       "      <td>1</td>\n",
       "      <td>0</td>\n",
       "      <td>1</td>\n",
       "      <td>1</td>\n",
       "      <td>0</td>\n",
       "      <td>1</td>\n",
       "      <td>0</td>\n",
       "      <td>0</td>\n",
       "      <td>0</td>\n",
       "      <td>0</td>\n",
       "      <td>1</td>\n",
       "      <td>0</td>\n",
       "      <td>0</td>\n",
       "      <td>0</td>\n",
       "      <td>0</td>\n",
       "      <td>0</td>\n",
       "      <td>1</td>\n",
       "    </tr>\n",
       "    <tr>\n",
       "      <th>8</th>\n",
       "      <td>0</td>\n",
       "      <td>0</td>\n",
       "      <td>1</td>\n",
       "      <td>0</td>\n",
       "      <td>0</td>\n",
       "      <td>1</td>\n",
       "      <td>0</td>\n",
       "      <td>1</td>\n",
       "      <td>0</td>\n",
       "      <td>0</td>\n",
       "      <td>0</td>\n",
       "      <td>0</td>\n",
       "      <td>1</td>\n",
       "      <td>0</td>\n",
       "      <td>0</td>\n",
       "      <td>0</td>\n",
       "      <td>0</td>\n",
       "      <td>0</td>\n",
       "      <td>1</td>\n",
       "    </tr>\n",
       "    <tr>\n",
       "      <th>9</th>\n",
       "      <td>0</td>\n",
       "      <td>1</td>\n",
       "      <td>1</td>\n",
       "      <td>0</td>\n",
       "      <td>1</td>\n",
       "      <td>1</td>\n",
       "      <td>0</td>\n",
       "      <td>1</td>\n",
       "      <td>0</td>\n",
       "      <td>0</td>\n",
       "      <td>0</td>\n",
       "      <td>0</td>\n",
       "      <td>0</td>\n",
       "      <td>0</td>\n",
       "      <td>0</td>\n",
       "      <td>0</td>\n",
       "      <td>0</td>\n",
       "      <td>0</td>\n",
       "      <td>1</td>\n",
       "    </tr>\n",
       "    <tr>\n",
       "      <th>10</th>\n",
       "      <td>0</td>\n",
       "      <td>1</td>\n",
       "      <td>1</td>\n",
       "      <td>0</td>\n",
       "      <td>0</td>\n",
       "      <td>1</td>\n",
       "      <td>0</td>\n",
       "      <td>1</td>\n",
       "      <td>0</td>\n",
       "      <td>0</td>\n",
       "      <td>0</td>\n",
       "      <td>0</td>\n",
       "      <td>0</td>\n",
       "      <td>0</td>\n",
       "      <td>0</td>\n",
       "      <td>0</td>\n",
       "      <td>0</td>\n",
       "      <td>0</td>\n",
       "      <td>1</td>\n",
       "    </tr>\n",
       "    <tr>\n",
       "      <th>11</th>\n",
       "      <td>0</td>\n",
       "      <td>0</td>\n",
       "      <td>1</td>\n",
       "      <td>0</td>\n",
       "      <td>1</td>\n",
       "      <td>1</td>\n",
       "      <td>0</td>\n",
       "      <td>1</td>\n",
       "      <td>0</td>\n",
       "      <td>0</td>\n",
       "      <td>0</td>\n",
       "      <td>0</td>\n",
       "      <td>0</td>\n",
       "      <td>0</td>\n",
       "      <td>0</td>\n",
       "      <td>0</td>\n",
       "      <td>0</td>\n",
       "      <td>0</td>\n",
       "      <td>1</td>\n",
       "    </tr>\n",
       "    <tr>\n",
       "      <th>12</th>\n",
       "      <td>0</td>\n",
       "      <td>0</td>\n",
       "      <td>1</td>\n",
       "      <td>0</td>\n",
       "      <td>0</td>\n",
       "      <td>1</td>\n",
       "      <td>0</td>\n",
       "      <td>1</td>\n",
       "      <td>0</td>\n",
       "      <td>0</td>\n",
       "      <td>0</td>\n",
       "      <td>0</td>\n",
       "      <td>0</td>\n",
       "      <td>0</td>\n",
       "      <td>0</td>\n",
       "      <td>0</td>\n",
       "      <td>0</td>\n",
       "      <td>0</td>\n",
       "      <td>1</td>\n",
       "    </tr>\n",
       "  </tbody>\n",
       "</table>\n",
       "</div>"
      ],
      "text/plain": [
       "   AKT AXIN2 Bcatenin_memb Bcatenin_nuc Dest_compl Ecadherin GLI GSK3B MEK  \\\n",
       "0    1     1             0            1          0         0   1     0   1   \n",
       "1    0     1             0            0          1         0   0     1   0   \n",
       "2    0     0             0            0          1         0   0     1   0   \n",
       "3    0     1             0            0          1         0   0     1   0   \n",
       "4    0     0             0            0          1         0   0     1   0   \n",
       "5    0     1             1            0          1         1   0     1   0   \n",
       "6    0     1             1            0          0         1   0     1   0   \n",
       "7    0     0             1            0          1         1   0     1   0   \n",
       "8    0     0             1            0          0         1   0     1   0   \n",
       "9    0     1             1            0          1         1   0     1   0   \n",
       "10   0     1             1            0          0         1   0     1   0   \n",
       "11   0     0             1            0          1         1   0     1   0   \n",
       "12   0     0             1            0          0         1   0     1   0   \n",
       "\n",
       "   NOTCH SMAD SNAI1 SNAI2 SOS_GRB2 TGFBR TWIST1 ZEB1 ZEB2 miR200  \n",
       "0      1    1     1     1        0     1      1    1    1      0  \n",
       "1      0    0     0     1        0     0      0    0    0      1  \n",
       "2      0    0     0     1        0     0      0    0    0      1  \n",
       "3      0    0     0     0        0     0      0    0    0      1  \n",
       "4      0    0     0     0        0     0      0    0    0      1  \n",
       "5      0    0     0     1        0     0      0    0    0      1  \n",
       "6      0    0     0     1        0     0      0    0    0      1  \n",
       "7      0    0     0     1        0     0      0    0    0      1  \n",
       "8      0    0     0     1        0     0      0    0    0      1  \n",
       "9      0    0     0     0        0     0      0    0    0      1  \n",
       "10     0    0     0     0        0     0      0    0    0      1  \n",
       "11     0    0     0     0        0     0      0    0    0      1  \n",
       "12     0    0     0     0        0     0      0    0    0      1  "
      ]
     },
     "execution_count": 7,
     "metadata": {},
     "output_type": "execute_result"
    }
   ],
   "source": [
    "df=ex.attractor_dataframe(ar)\n",
    "df"
   ]
  },
  {
   "cell_type": "code",
   "execution_count": 8,
   "metadata": {},
   "outputs": [],
   "source": [
    "df.to_excel('EMT19_attractors.xlsx')"
   ]
  },
  {
   "cell_type": "markdown",
   "metadata": {},
   "source": [
    "To access the attractors as the dictionaries:"
   ]
  },
  {
   "cell_type": "code",
   "execution_count": 9,
   "metadata": {},
   "outputs": [
    {
     "name": "stdout",
     "output_type": "stream",
     "text": [
      "{'AKT': 1, 'AXIN2': 1, 'Bcatenin_memb': 0, 'Bcatenin_nuc': 1, 'Dest_compl': 0, 'Ecadherin': 0, 'GLI': 1, 'GSK3B': 0, 'MEK': 1, 'NOTCH': 1, 'SMAD': 1, 'SNAI1': 1, 'SNAI2': 1, 'SOS_GRB2': 0, 'TGFBR': 1, 'TWIST1': 1, 'ZEB1': 1, 'ZEB2': 1, 'miR200': 0}\n",
      "{'AKT': 0, 'AXIN2': 1, 'Bcatenin_memb': 0, 'Bcatenin_nuc': 0, 'Dest_compl': 1, 'Ecadherin': 0, 'GLI': 0, 'GSK3B': 1, 'MEK': 0, 'NOTCH': 0, 'SMAD': 0, 'SNAI1': 0, 'SNAI2': 1, 'SOS_GRB2': 0, 'TGFBR': 0, 'TWIST1': 0, 'ZEB1': 0, 'ZEB2': 0, 'miR200': 1}\n",
      "{'AKT': 0, 'AXIN2': 0, 'Bcatenin_memb': 0, 'Bcatenin_nuc': 0, 'Dest_compl': 1, 'Ecadherin': 0, 'GLI': 0, 'GSK3B': 1, 'MEK': 0, 'NOTCH': 0, 'SMAD': 0, 'SNAI1': 0, 'SNAI2': 1, 'SOS_GRB2': 0, 'TGFBR': 0, 'TWIST1': 0, 'ZEB1': 0, 'ZEB2': 0, 'miR200': 1}\n",
      "{'AKT': 0, 'AXIN2': 1, 'Bcatenin_memb': 0, 'Bcatenin_nuc': 0, 'Dest_compl': 1, 'Ecadherin': 0, 'GLI': 0, 'GSK3B': 1, 'MEK': 0, 'NOTCH': 0, 'SMAD': 0, 'SNAI1': 0, 'SNAI2': 0, 'SOS_GRB2': 0, 'TGFBR': 0, 'TWIST1': 0, 'ZEB1': 0, 'ZEB2': 0, 'miR200': 1}\n",
      "{'AKT': 0, 'AXIN2': 0, 'Bcatenin_memb': 0, 'Bcatenin_nuc': 0, 'Dest_compl': 1, 'Ecadherin': 0, 'GLI': 0, 'GSK3B': 1, 'MEK': 0, 'NOTCH': 0, 'SMAD': 0, 'SNAI1': 0, 'SNAI2': 0, 'SOS_GRB2': 0, 'TGFBR': 0, 'TWIST1': 0, 'ZEB1': 0, 'ZEB2': 0, 'miR200': 1}\n",
      "{'AKT': 0, 'AXIN2': 1, 'Bcatenin_memb': 1, 'Bcatenin_nuc': 0, 'Dest_compl': 1, 'Ecadherin': 1, 'GLI': 0, 'GSK3B': 1, 'MEK': 0, 'NOTCH': 0, 'SMAD': 0, 'SNAI1': 0, 'SNAI2': 1, 'SOS_GRB2': 0, 'TGFBR': 0, 'TWIST1': 0, 'ZEB1': 0, 'ZEB2': 0, 'miR200': 1}\n",
      "{'AKT': 0, 'AXIN2': 1, 'Bcatenin_memb': 1, 'Bcatenin_nuc': 0, 'Dest_compl': 0, 'Ecadherin': 1, 'GLI': 0, 'GSK3B': 1, 'MEK': 0, 'NOTCH': 0, 'SMAD': 0, 'SNAI1': 0, 'SNAI2': 1, 'SOS_GRB2': 0, 'TGFBR': 0, 'TWIST1': 0, 'ZEB1': 0, 'ZEB2': 0, 'miR200': 1}\n",
      "{'AKT': 0, 'AXIN2': 0, 'Bcatenin_memb': 1, 'Bcatenin_nuc': 0, 'Dest_compl': 1, 'Ecadherin': 1, 'GLI': 0, 'GSK3B': 1, 'MEK': 0, 'NOTCH': 0, 'SMAD': 0, 'SNAI1': 0, 'SNAI2': 1, 'SOS_GRB2': 0, 'TGFBR': 0, 'TWIST1': 0, 'ZEB1': 0, 'ZEB2': 0, 'miR200': 1}\n",
      "{'AKT': 0, 'AXIN2': 0, 'Bcatenin_memb': 1, 'Bcatenin_nuc': 0, 'Dest_compl': 0, 'Ecadherin': 1, 'GLI': 0, 'GSK3B': 1, 'MEK': 0, 'NOTCH': 0, 'SMAD': 0, 'SNAI1': 0, 'SNAI2': 1, 'SOS_GRB2': 0, 'TGFBR': 0, 'TWIST1': 0, 'ZEB1': 0, 'ZEB2': 0, 'miR200': 1}\n",
      "{'AKT': 0, 'AXIN2': 1, 'Bcatenin_memb': 1, 'Bcatenin_nuc': 0, 'Dest_compl': 1, 'Ecadherin': 1, 'GLI': 0, 'GSK3B': 1, 'MEK': 0, 'NOTCH': 0, 'SMAD': 0, 'SNAI1': 0, 'SNAI2': 0, 'SOS_GRB2': 0, 'TGFBR': 0, 'TWIST1': 0, 'ZEB1': 0, 'ZEB2': 0, 'miR200': 1}\n",
      "{'AKT': 0, 'AXIN2': 1, 'Bcatenin_memb': 1, 'Bcatenin_nuc': 0, 'Dest_compl': 0, 'Ecadherin': 1, 'GLI': 0, 'GSK3B': 1, 'MEK': 0, 'NOTCH': 0, 'SMAD': 0, 'SNAI1': 0, 'SNAI2': 0, 'SOS_GRB2': 0, 'TGFBR': 0, 'TWIST1': 0, 'ZEB1': 0, 'ZEB2': 0, 'miR200': 1}\n",
      "{'AKT': 0, 'AXIN2': 0, 'Bcatenin_memb': 1, 'Bcatenin_nuc': 0, 'Dest_compl': 1, 'Ecadherin': 1, 'GLI': 0, 'GSK3B': 1, 'MEK': 0, 'NOTCH': 0, 'SMAD': 0, 'SNAI1': 0, 'SNAI2': 0, 'SOS_GRB2': 0, 'TGFBR': 0, 'TWIST1': 0, 'ZEB1': 0, 'ZEB2': 0, 'miR200': 1}\n",
      "{'AKT': 0, 'AXIN2': 0, 'Bcatenin_memb': 1, 'Bcatenin_nuc': 0, 'Dest_compl': 0, 'Ecadherin': 1, 'GLI': 0, 'GSK3B': 1, 'MEK': 0, 'NOTCH': 0, 'SMAD': 0, 'SNAI1': 0, 'SNAI2': 0, 'SOS_GRB2': 0, 'TGFBR': 0, 'TWIST1': 0, 'ZEB1': 0, 'ZEB2': 0, 'miR200': 1}\n"
     ]
    }
   ],
   "source": [
    "for a in ar.attractors:\n",
    "    print(a.attractor_dict)"
   ]
  },
  {
   "cell_type": "markdown",
   "metadata": {},
   "source": [
    "## Generating and plotting the Suuccession Diagrams"
   ]
  },
  {
   "cell_type": "markdown",
   "metadata": {},
   "source": [
    "If we want to add the attractors as nodes of the succession diagram connected to the terminal nodes of the succession diagram we set:\n"
   ]
  },
  {
   "cell_type": "code",
   "execution_count": 10,
   "metadata": {},
   "outputs": [],
   "source": [
    "include_attractors_in_diagram=True"
   ]
  },
  {
   "cell_type": "markdown",
   "metadata": {},
   "source": [
    "### Reduced network based succession diagram"
   ]
  },
  {
   "cell_type": "code",
   "execution_count": 11,
   "metadata": {},
   "outputs": [],
   "source": [
    "GR=ex.networkx_succession_diagram_reduced_network_based(ar,include_attractors_in_diagram=include_attractors_in_diagram)"
   ]
  },
  {
   "cell_type": "markdown",
   "metadata": {},
   "source": [
    "### Motif based succession diagram"
   ]
  },
  {
   "cell_type": "code",
   "execution_count": 12,
   "metadata": {},
   "outputs": [],
   "source": [
    "GM=ex.networkx_succession_diagram_motif_based(ar,include_attractors_in_diagram=True)"
   ]
  },
  {
   "cell_type": "markdown",
   "metadata": {},
   "source": [
    "### Plotting with yED"
   ]
  },
  {
   "cell_type": "markdown",
   "metadata": {},
   "source": [
    "Plotting the succession diagrams in matplolib is an quick and efficient way of having a glimpse at the succession diagram, however in the case of large and more complex diagrams this can become inefficient. We suggest exporting the diagrams and plotting them with tools such as yED. Here we explain how to do it:\n",
    "* first, we export the succession diagram into graphml format. The attributes such as the label are preserved by the format"
   ]
  },
  {
   "cell_type": "code",
   "execution_count": 13,
   "metadata": {},
   "outputs": [],
   "source": [
    "ex.save_to_graphml(GR,model_name='EMT19_R_succ_diagram_')\n",
    "ex.save_to_graphml(GM,model_name='EMT19_M_succ_diagram_')"
   ]
  },
  {
   "cell_type": "markdown",
   "metadata": {},
   "source": [
    "* next, open the saved graphml in yED\n",
    "* go to Edit -> Properties Mapper\n",
    "* (optional) in the top left corner of the pop-up window click *import additional configuration* and select the *succession_diagram_yED_properties.cnfx* config file from GitHub. \n",
    "* Set up the configuration and click *Apply*\n",
    "* Finally, we suggest a hierarchical layout. To get this go to Layout -> Hierarchical"
   ]
  },
  {
   "cell_type": "markdown",
   "metadata": {},
   "source": [
    "## Controlling Attractors"
   ]
  },
  {
   "cell_type": "markdown",
   "metadata": {},
   "source": [
    "There are several different algorithms and heuristics that can help determine what is the minimum set of nonredundant nodes that need to be fixed in order to make the system reach a desired state _from any other state_. The target state can be a subset of the nodes as well.\n",
    "\n",
    "The _reprogram_trap_spaces()_ function handles all the implemented control methods. Its inputs are the target node states and the method combinations. Here we give and example for the default _history + internal_ method. Please consult the documentation for the other methods.  \n",
    "\n",
    "_history + internal_ :\n",
    "Finds all shortest stable motif histories that result in the target node states being logically fixed. Each stable motif is searched for internal driver nodes. The resulting internal drivers are combined into a single  control set. The returned list consists of all such control sets for all stable motif histories. Each control set eventually becomes self-sustaining.\n",
    "\n"
   ]
  },
  {
   "cell_type": "code",
   "execution_count": 14,
   "metadata": {},
   "outputs": [],
   "source": [
    "def spontaneous_control_set_lock_in_probability(control_sets,N):\n",
    "    #assuming the opposite state of the control set is realized\n",
    "    return sum([(N)**(-len(cs)) for cs in  control_sets])\n",
    "\n",
    "\n",
    "def initial_setup_control_set_prob(control_sets):\n",
    "    return sum([2**(-len(cs)) for cs in  control_sets])\n"
   ]
  },
  {
   "cell_type": "code",
   "execution_count": 15,
   "metadata": {},
   "outputs": [
    {
     "name": "stdout",
     "output_type": "stream",
     "text": [
      "[{'Dest_compl': 1, 'GLI': 0, 'SNAI2': 0, 'AXIN2': 0, 'Bcatenin_memb': 1, 'AKT': 0, 'SNAI1': 0}, {'Dest_compl': 1, 'GLI': 0, 'SNAI2': 0, 'AXIN2': 0, 'AKT': 0, 'SNAI1': 0, 'Ecadherin': 1}]\n",
      "2.2374574703944187e-09\n"
     ]
    }
   ],
   "source": [
    "target_state={'AKT': 0, 'AXIN2': 0, 'Bcatenin_memb': 1, 'Bcatenin_nuc': 0, 'Dest_compl': 1, 'Ecadherin': 1, 'GLI': 0, 'GSK3B': 1, 'MEK': 0, 'NOTCH': 0, 'SMAD': 0, 'SNAI1': 0, 'SNAI2': 0, 'SOS_GRB2': 0, 'TGFBR': 0, 'TWIST1': 0, 'ZEB1': 0, 'ZEB2': 0, 'miR200': 1}\n",
    "\n",
    "control_sets=ar.succession_diagram.reprogram_to_trap_spaces(logically_fixed=target_state,\n",
    "                                               target_method='merge',\n",
    "                                               driver_method='minimal')\n",
    "print(control_sets)\n",
    "print(spontaneous_control_set_lock_in_probability(control_sets,len(primes)))"
   ]
  },
  {
   "cell_type": "code",
   "execution_count": 16,
   "metadata": {},
   "outputs": [
    {
     "name": "stdout",
     "output_type": "stream",
     "text": [
      "[{'TGFBR': 1}, {'GLI': 1}, {'SMAD': 1}, {'NOTCH': 1}, {'AKT': 1}, {'SNAI1': 1}, {'MEK': 1}, {'Bcatenin_nuc': 1}, {'TWIST1': 1}, {'GSK3B': 0}, {'SOS_GRB2': 1}]\n",
      "0.5789473684210527\n"
     ]
    }
   ],
   "source": [
    "target_state={'AKT': 1, 'AXIN2': 1, 'Bcatenin_memb': 0, 'Bcatenin_nuc': 1, 'Dest_compl': 0, 'Ecadherin': 0, 'GLI': 1, 'GSK3B': 0, 'MEK': 1, 'NOTCH': 1, 'SMAD': 1, 'SNAI1': 1, 'SNAI2': 1, 'SOS_GRB2': 0, 'TGFBR': 1, 'TWIST1': 1, 'ZEB1': 1, 'ZEB2': 1, 'miR200': 0}\n",
    "\n",
    "control_sets=ar.succession_diagram.reprogram_to_trap_spaces(logically_fixed=target_state,\n",
    "                                               target_method='merge',\n",
    "                                               driver_method='minimal')\n",
    "print(control_sets)\n",
    "print(spontaneous_control_set_lock_in_probability(control_sets,len(primes)))"
   ]
  },
  {
   "cell_type": "markdown",
   "metadata": {},
   "source": [
    "Please consult the function docstring for more information (by pressing Shift+Tab when the cursor is in the function or by running ar.succession_diagram.reprogram_to_trap_spaces?)\n"
   ]
  },
  {
   "cell_type": "code",
   "execution_count": 17,
   "metadata": {},
   "outputs": [
    {
     "name": "stdout",
     "output_type": "stream",
     "text": [
      "history internal\n",
      "merge internal\n",
      "merge minimal\n"
     ]
    }
   ],
   "source": [
    "\n",
    "control_methods=[('history', 'internal'),\n",
    "#('history', 'minimal'),\n",
    "#('history', 'GRASP'),\n",
    "('merge','internal'),\n",
    "('merge', 'minimal')]\n",
    "#('merge', 'GRASP')]\n",
    "M_state={'AKT': 1, 'AXIN2': 1, 'Bcatenin_memb': 0, 'Bcatenin_nuc': 1, 'Dest_compl': 0, 'Ecadherin': 0, 'GLI': 1, 'GSK3B': 0, 'MEK': 1, 'NOTCH': 1, 'SMAD': 1, 'SNAI1': 1, 'SNAI2': 1, 'SOS_GRB2': 0, 'TGFBR': 1, 'TWIST1': 1, 'ZEB1': 1, 'ZEB2': 1, 'miR200': 0}\n",
    "E_state={'AKT': 0, 'AXIN2': 0, 'Bcatenin_memb': 1, 'Bcatenin_nuc': 0, 'Dest_compl': 1, 'Ecadherin': 1, 'GLI': 0, 'GSK3B': 1, 'MEK': 0, 'NOTCH': 0, 'SMAD': 0, 'SNAI1': 0, 'SNAI2': 0, 'SOS_GRB2': 0, 'TGFBR': 0, 'TWIST1': 0, 'ZEB1': 0, 'ZEB2': 0, 'miR200': 1}\n",
    "summary=[]\n",
    "for target_method, driver_method in control_methods:\n",
    "    print(target_method,driver_method)\n",
    "    control_sets_M=ar.succession_diagram.reprogram_to_trap_spaces(logically_fixed=M_state,\n",
    "                                               target_method=target_method,\n",
    "                                               driver_method=driver_method)\n",
    "    p_M=spontaneous_control_set_lock_in_probability(control_sets_M,len(primes))\n",
    "    p_init_M=initial_setup_control_set_prob(control_sets_M)\n",
    "    control_sets_E=ar.succession_diagram.reprogram_to_trap_spaces(logically_fixed=E_state,\n",
    "                                               target_method=target_method,\n",
    "                                               driver_method=driver_method)\n",
    "    p_E=spontaneous_control_set_lock_in_probability(control_sets_E,len(primes))\n",
    "    p_init_E=initial_setup_control_set_prob(control_sets_E)\n",
    "\n",
    "    summary.append([target_method,driver_method,p_M,p_E,p_init_M,p_init_E])\n",
    "    "
   ]
  },
  {
   "cell_type": "code",
   "execution_count": 18,
   "metadata": {},
   "outputs": [
    {
     "data": {
      "text/html": [
       "<div>\n",
       "<style scoped>\n",
       "    .dataframe tbody tr th:only-of-type {\n",
       "        vertical-align: middle;\n",
       "    }\n",
       "\n",
       "    .dataframe tbody tr th {\n",
       "        vertical-align: top;\n",
       "    }\n",
       "\n",
       "    .dataframe thead th {\n",
       "        text-align: right;\n",
       "    }\n",
       "</style>\n",
       "<table border=\"1\" class=\"dataframe\">\n",
       "  <thead>\n",
       "    <tr style=\"text-align: right;\">\n",
       "      <th></th>\n",
       "      <th>target_method</th>\n",
       "      <th>driver_method</th>\n",
       "      <th>p_M</th>\n",
       "      <th>p_E</th>\n",
       "      <th>p_init_M</th>\n",
       "      <th>p_init_E</th>\n",
       "    </tr>\n",
       "  </thead>\n",
       "  <tbody>\n",
       "    <tr>\n",
       "      <th>0</th>\n",
       "      <td>history</td>\n",
       "      <td>internal</td>\n",
       "      <td>0.315789</td>\n",
       "      <td>2.714699e-09</td>\n",
       "      <td>3.0</td>\n",
       "      <td>0.050781</td>\n",
       "    </tr>\n",
       "    <tr>\n",
       "      <th>1</th>\n",
       "      <td>merge</td>\n",
       "      <td>internal</td>\n",
       "      <td>0.315789</td>\n",
       "      <td>2.714699e-09</td>\n",
       "      <td>3.0</td>\n",
       "      <td>0.050781</td>\n",
       "    </tr>\n",
       "    <tr>\n",
       "      <th>2</th>\n",
       "      <td>merge</td>\n",
       "      <td>minimal</td>\n",
       "      <td>0.578947</td>\n",
       "      <td>2.237457e-09</td>\n",
       "      <td>5.5</td>\n",
       "      <td>0.015625</td>\n",
       "    </tr>\n",
       "  </tbody>\n",
       "</table>\n",
       "</div>"
      ],
      "text/plain": [
       "  target_method driver_method       p_M           p_E  p_init_M  p_init_E\n",
       "0       history      internal  0.315789  2.714699e-09       3.0  0.050781\n",
       "1         merge      internal  0.315789  2.714699e-09       3.0  0.050781\n",
       "2         merge       minimal  0.578947  2.237457e-09       5.5  0.015625"
      ]
     },
     "execution_count": 18,
     "metadata": {},
     "output_type": "execute_result"
    }
   ],
   "source": [
    "import pandas as pd\n",
    "\n",
    "df=pd.DataFrame(summary, columns=['target_method','driver_method','p_M','p_E','p_init_M','p_init_E'])\n",
    "df.to_excel('EMT19_control_probabilities.xlsx')\n",
    "df"
   ]
  },
  {
   "cell_type": "code",
   "execution_count": 19,
   "metadata": {},
   "outputs": [
    {
     "data": {
      "text/plain": [
       "[{'Dest_compl': 1,\n",
       "  'GLI': 0,\n",
       "  'SNAI2': 0,\n",
       "  'AXIN2': 0,\n",
       "  'Bcatenin_memb': 1,\n",
       "  'AKT': 0,\n",
       "  'SNAI1': 0},\n",
       " {'Dest_compl': 1,\n",
       "  'GLI': 0,\n",
       "  'SNAI2': 0,\n",
       "  'AXIN2': 0,\n",
       "  'AKT': 0,\n",
       "  'SNAI1': 0,\n",
       "  'Ecadherin': 1}]"
      ]
     },
     "execution_count": 19,
     "metadata": {},
     "output_type": "execute_result"
    }
   ],
   "source": [
    "control_sets_E"
   ]
  },
  {
   "cell_type": "code",
   "execution_count": 20,
   "metadata": {},
   "outputs": [
    {
     "data": {
      "text/plain": [
       "[{'TGFBR': 1},\n",
       " {'GLI': 1},\n",
       " {'SMAD': 1},\n",
       " {'NOTCH': 1},\n",
       " {'AKT': 1},\n",
       " {'SNAI1': 1},\n",
       " {'MEK': 1},\n",
       " {'Bcatenin_nuc': 1},\n",
       " {'TWIST1': 1},\n",
       " {'GSK3B': 0},\n",
       " {'SOS_GRB2': 1}]"
      ]
     },
     "execution_count": 20,
     "metadata": {},
     "output_type": "execute_result"
    }
   ],
   "source": [
    "control_sets_M"
   ]
  }
 ],
 "metadata": {
  "kernelspec": {
   "display_name": "Python 3",
   "language": "python",
   "name": "python3"
  },
  "language_info": {
   "codemirror_mode": {
    "name": "ipython",
    "version": 3
   },
   "file_extension": ".py",
   "mimetype": "text/x-python",
   "name": "python",
   "nbconvert_exporter": "python",
   "pygments_lexer": "ipython3",
   "version": "3.7.6"
  }
 },
 "nbformat": 4,
 "nbformat_minor": 4
}
