{
 "cells": [
  {
   "cell_type": "markdown",
   "metadata": {},
   "source": [
    "# StableMotif of the compartmentalized EMT model of Mendik et al."
   ]
  },
  {
   "cell_type": "markdown",
   "metadata": {},
   "source": [
    "The code is a direct application of the Tutorial notebook form: https://github.com/jcrozum/PyStableMotifs"
   ]
  },
  {
   "cell_type": "code",
   "execution_count": 2,
   "metadata": {},
   "outputs": [],
   "source": [
    "import pystablemotifs as sm\n",
    "import pyboolnet\n",
    "import pystablemotifs.export as ex\n",
    "import pandas as pd"
   ]
  },
  {
   "cell_type": "markdown",
   "metadata": {},
   "source": [
    "## Read in a Boolean model:"
   ]
  },
  {
   "cell_type": "code",
   "execution_count": 3,
   "metadata": {
    "scrolled": true
   },
   "outputs": [
    {
     "name": "stdout",
     "output_type": "stream",
     "text": [
      "AKT *= SMAD_nuc or SOS_GRB2 or not GSK3B_cyto or Bcatenin_nuc\n",
      "AXIN2_cyto *= AXIN2_cyto or Bcatenin_nuc or not AXIN2_nuc\n",
      "AXIN2_nuc *= not AXIN2_cyto\n",
      "Bcatenin_memb *= Ecadherin and not Bcatenin_nuc\n",
      "Bcatenin_nuc *= (not Dest_compl or NOTCH_ic_cyto) and not Bcatenin_memb and ( not (GLI_cyto and not GLI_nuc) or not (AXIN2_nuc and GSK3B_nuc) or Ecadherin_CTF or not Ecadherin)\n",
      "Dest_compl *= (GSK3B_cyto and AXIN2_cyto and Bcatenin_nuc) or (GSK3B_cyto and Dest_compl)\n",
      "Ecadherin *= Bcatenin_memb and (not SNAI1_nuc or (not NOTCH_ic_nuc and not SMAD_nuc) or not ZEB1_nuc or not ZEB2 or not TWIST1_nuc or not SNAI2_nuc)\n",
      "Ecadherin_CTF *= not Ecadherin\n",
      "GLI_cyto *= Bcatenin_nuc or SMAD_nuc or GLI_nuc\n",
      "GLI_nuc *= (SMAD_nuc and (AKT or MEK or GSK3B_cyto)) and GLI_cyto\n",
      "GSK3B_cyto *= not GLI_nuc and not AKT\n",
      "GSK3B_nuc *= not AKT and not AXIN2_cyto\n",
      "MEK *= SOS_GRB2 or not GSK3B_cyto or Bcatenin_nuc or not (not MEK or not SNAI1_nuc) or Ecadherin_CTF\n",
      "miR200 *= not SNAI1_nuc and not ZEB1_nuc and not ZEB2\n",
      "NOTCH *= SMAD_nuc or Bcatenin_nuc\n",
      "NOTCH_ic_cyto *= NOTCH\n",
      "NOTCH_ic_nuc *= NOTCH_ic_cyto and SNAI2_nuc\n",
      "SMAD_cyto *= (MEK or GSK3B_cyto) and TGFBR\n",
      "SMAD_nuc *= SMAD_cyto and (ZEB1_nuc or not ZEB2)\n",
      "SNAI1_cyto *= (GLI_nuc or Bcatenin_nuc or NOTCH_ic_nuc or MEK or TGFBR_icd) and (AKT or not GSK3B_cyto)\n",
      "SNAI1_nuc *= SNAI1_cyto and (SMAD_nuc or TGFBR) and not GSK3B_nuc\n",
      "SNAI2_cyto *= (MEK or Bcatenin_nuc or SNAI2_nuc or TWIST1_nuc) and not GSK3B_cyto\n",
      "SNAI2_nuc *= SNAI2_cyto and not GSK3B_nuc\n",
      "SOS_GRB2 *= (Bcatenin_nuc or TGFBR) and not MEK\n",
      "TGFBR *= SNAI1_nuc or TWIST1_nuc or GLI_nuc\n",
      "TGFBR_icd *= TGFBR\n",
      "TWIST1_nuc *= AKT or Bcatenin_nuc or SNAI1_cyto\n",
      "ZEB1_cyto *= SNAI1_nuc and not miR200\n",
      "ZEB1_nuc *= ZEB1_cyto\n",
      "ZEB2 *= SNAI1_nuc and not miR200\n",
      "\n"
     ]
    }
   ],
   "source": [
    "with open('EMT30.booleannet', 'r') as f:\n",
    "    rules=f.read()\n",
    "\n",
    "print(rules)"
   ]
  },
  {
   "cell_type": "code",
   "execution_count": 8,
   "metadata": {},
   "outputs": [],
   "source": [
    "#format the rules to be PyBoolNet compatible \n",
    "rules_pbn = sm.format.booleannet2bnet(rules)\n",
    "primes = pyboolnet.prime_implicants.bnet_text2primes(rules_pbn)\n"
   ]
  },
  {
   "cell_type": "markdown",
   "metadata": {},
   "source": [
    "## Generating the Attractor repertoire"
   ]
  },
  {
   "cell_type": "code",
   "execution_count": 9,
   "metadata": {},
   "outputs": [],
   "source": [
    "#explanation of the parameter\n",
    "max_simulate_size=20"
   ]
  },
  {
   "cell_type": "code",
   "execution_count": 10,
   "metadata": {},
   "outputs": [],
   "source": [
    "ar = sm.AttractorRepertoire.from_primes(primes, max_simulate_size=max_simulate_size)"
   ]
  },
  {
   "cell_type": "markdown",
   "metadata": {},
   "source": [
    "### What do we know about the attractors?"
   ]
  },
  {
   "cell_type": "code",
   "execution_count": 11,
   "metadata": {},
   "outputs": [
    {
     "name": "stdout",
     "output_type": "stream",
     "text": [
      "There are 7 attractors.\n",
      "{'AKT': 1, 'AXIN2_cyto': 1, 'AXIN2_nuc': 0, 'Bcatenin_memb': 0, 'Bcatenin_nuc': 1, 'Dest_compl': 0, 'Ecadherin': 0, 'Ecadherin_CTF': 1, 'GLI_cyto': 1, 'GLI_nuc': 1, 'GSK3B_cyto': 0, 'GSK3B_nuc': 0, 'MEK': 1, 'NOTCH': 1, 'NOTCH_ic_cyto': 1, 'NOTCH_ic_nuc': 1, 'SMAD_cyto': 1, 'SMAD_nuc': 1, 'SNAI1_cyto': 1, 'SNAI1_nuc': 1, 'SNAI2_cyto': 1, 'SNAI2_nuc': 1, 'SOS_GRB2': 0, 'TGFBR': 1, 'TGFBR_icd': 1, 'TWIST1_nuc': 1, 'ZEB1_cyto': 1, 'ZEB1_nuc': 1, 'ZEB2': 1, 'miR200': 0}\n",
      "\n",
      "{'AKT': 0, 'AXIN2_cyto': 1, 'AXIN2_nuc': 0, 'Bcatenin_memb': 0, 'Bcatenin_nuc': 0, 'Dest_compl': 1, 'Ecadherin': 0, 'Ecadherin_CTF': 1, 'GLI_cyto': 0, 'GLI_nuc': 0, 'GSK3B_cyto': 1, 'GSK3B_nuc': 0, 'MEK': 1, 'NOTCH': 0, 'NOTCH_ic_cyto': 0, 'NOTCH_ic_nuc': 0, 'SMAD_cyto': 0, 'SMAD_nuc': 0, 'SNAI1_cyto': 0, 'SNAI1_nuc': 0, 'SNAI2_cyto': 0, 'SNAI2_nuc': 0, 'SOS_GRB2': 0, 'TGFBR': 0, 'TGFBR_icd': 0, 'TWIST1_nuc': 0, 'ZEB1_cyto': 0, 'ZEB1_nuc': 0, 'ZEB2': 0, 'miR200': 1}\n",
      "\n",
      "{'AKT': 0, 'AXIN2_cyto': 0, 'AXIN2_nuc': 1, 'Bcatenin_memb': 0, 'Bcatenin_nuc': 0, 'Dest_compl': 1, 'Ecadherin': 0, 'Ecadherin_CTF': 1, 'GLI_cyto': 0, 'GLI_nuc': 0, 'GSK3B_cyto': 1, 'GSK3B_nuc': 1, 'MEK': 1, 'NOTCH': 0, 'NOTCH_ic_cyto': 0, 'NOTCH_ic_nuc': 0, 'SMAD_cyto': 0, 'SMAD_nuc': 0, 'SNAI1_cyto': 0, 'SNAI1_nuc': 0, 'SNAI2_cyto': 0, 'SNAI2_nuc': 0, 'SOS_GRB2': 0, 'TGFBR': 0, 'TGFBR_icd': 0, 'TWIST1_nuc': 0, 'ZEB1_cyto': 0, 'ZEB1_nuc': 0, 'ZEB2': 0, 'miR200': 1}\n",
      "\n",
      "{'AKT': 0, 'AXIN2_cyto': 1, 'AXIN2_nuc': 0, 'Bcatenin_memb': 1, 'Bcatenin_nuc': 0, 'Dest_compl': 1, 'Ecadherin': 1, 'Ecadherin_CTF': 0, 'GLI_cyto': 0, 'GLI_nuc': 0, 'GSK3B_cyto': 1, 'GSK3B_nuc': 0, 'MEK': 0, 'NOTCH': 0, 'NOTCH_ic_cyto': 0, 'NOTCH_ic_nuc': 0, 'SMAD_cyto': 0, 'SMAD_nuc': 0, 'SNAI1_cyto': 0, 'SNAI1_nuc': 0, 'SNAI2_cyto': 0, 'SNAI2_nuc': 0, 'SOS_GRB2': 0, 'TGFBR': 0, 'TGFBR_icd': 0, 'TWIST1_nuc': 0, 'ZEB1_cyto': 0, 'ZEB1_nuc': 0, 'ZEB2': 0, 'miR200': 1}\n",
      "\n",
      "{'AKT': 0, 'AXIN2_cyto': 1, 'AXIN2_nuc': 0, 'Bcatenin_memb': 1, 'Bcatenin_nuc': 0, 'Dest_compl': 0, 'Ecadherin': 1, 'Ecadherin_CTF': 0, 'GLI_cyto': 0, 'GLI_nuc': 0, 'GSK3B_cyto': 1, 'GSK3B_nuc': 0, 'MEK': 0, 'NOTCH': 0, 'NOTCH_ic_cyto': 0, 'NOTCH_ic_nuc': 0, 'SMAD_cyto': 0, 'SMAD_nuc': 0, 'SNAI1_cyto': 0, 'SNAI1_nuc': 0, 'SNAI2_cyto': 0, 'SNAI2_nuc': 0, 'SOS_GRB2': 0, 'TGFBR': 0, 'TGFBR_icd': 0, 'TWIST1_nuc': 0, 'ZEB1_cyto': 0, 'ZEB1_nuc': 0, 'ZEB2': 0, 'miR200': 1}\n",
      "\n",
      "{'AKT': 0, 'AXIN2_cyto': 0, 'AXIN2_nuc': 1, 'Bcatenin_memb': 1, 'Bcatenin_nuc': 0, 'Dest_compl': 1, 'Ecadherin': 1, 'Ecadherin_CTF': 0, 'GLI_cyto': 0, 'GLI_nuc': 0, 'GSK3B_cyto': 1, 'GSK3B_nuc': 1, 'MEK': 0, 'NOTCH': 0, 'NOTCH_ic_cyto': 0, 'NOTCH_ic_nuc': 0, 'SMAD_cyto': 0, 'SMAD_nuc': 0, 'SNAI1_cyto': 0, 'SNAI1_nuc': 0, 'SNAI2_cyto': 0, 'SNAI2_nuc': 0, 'SOS_GRB2': 0, 'TGFBR': 0, 'TGFBR_icd': 0, 'TWIST1_nuc': 0, 'ZEB1_cyto': 0, 'ZEB1_nuc': 0, 'ZEB2': 0, 'miR200': 1}\n",
      "\n",
      "{'AKT': 0, 'AXIN2_cyto': 0, 'AXIN2_nuc': 1, 'Bcatenin_memb': 1, 'Bcatenin_nuc': 0, 'Dest_compl': 0, 'Ecadherin': 1, 'Ecadherin_CTF': 0, 'GLI_cyto': 0, 'GLI_nuc': 0, 'GSK3B_cyto': 1, 'GSK3B_nuc': 1, 'MEK': 0, 'NOTCH': 0, 'NOTCH_ic_cyto': 0, 'NOTCH_ic_nuc': 0, 'SMAD_cyto': 0, 'SMAD_nuc': 0, 'SNAI1_cyto': 0, 'SNAI1_nuc': 0, 'SNAI2_cyto': 0, 'SNAI2_nuc': 0, 'SOS_GRB2': 0, 'TGFBR': 0, 'TGFBR_icd': 0, 'TWIST1_nuc': 0, 'ZEB1_cyto': 0, 'ZEB1_nuc': 0, 'ZEB2': 0, 'miR200': 1}\n",
      "\n"
     ]
    }
   ],
   "source": [
    "#Summary of the attractors:\n",
    "ar.summary()"
   ]
  },
  {
   "cell_type": "markdown",
   "metadata": {},
   "source": [
    "If we want the attractors in a DataFrame:"
   ]
  },
  {
   "cell_type": "code",
   "execution_count": 12,
   "metadata": {},
   "outputs": [
    {
     "data": {
      "text/html": [
       "<div>\n",
       "<style scoped>\n",
       "    .dataframe tbody tr th:only-of-type {\n",
       "        vertical-align: middle;\n",
       "    }\n",
       "\n",
       "    .dataframe tbody tr th {\n",
       "        vertical-align: top;\n",
       "    }\n",
       "\n",
       "    .dataframe thead th {\n",
       "        text-align: right;\n",
       "    }\n",
       "</style>\n",
       "<table border=\"1\" class=\"dataframe\">\n",
       "  <thead>\n",
       "    <tr style=\"text-align: right;\">\n",
       "      <th></th>\n",
       "      <th>AKT</th>\n",
       "      <th>AXIN2_cyto</th>\n",
       "      <th>AXIN2_nuc</th>\n",
       "      <th>Bcatenin_memb</th>\n",
       "      <th>Bcatenin_nuc</th>\n",
       "      <th>Dest_compl</th>\n",
       "      <th>Ecadherin</th>\n",
       "      <th>Ecadherin_CTF</th>\n",
       "      <th>GLI_cyto</th>\n",
       "      <th>GLI_nuc</th>\n",
       "      <th>...</th>\n",
       "      <th>SNAI2_cyto</th>\n",
       "      <th>SNAI2_nuc</th>\n",
       "      <th>SOS_GRB2</th>\n",
       "      <th>TGFBR</th>\n",
       "      <th>TGFBR_icd</th>\n",
       "      <th>TWIST1_nuc</th>\n",
       "      <th>ZEB1_cyto</th>\n",
       "      <th>ZEB1_nuc</th>\n",
       "      <th>ZEB2</th>\n",
       "      <th>miR200</th>\n",
       "    </tr>\n",
       "  </thead>\n",
       "  <tbody>\n",
       "    <tr>\n",
       "      <th>0</th>\n",
       "      <td>1</td>\n",
       "      <td>1</td>\n",
       "      <td>0</td>\n",
       "      <td>0</td>\n",
       "      <td>1</td>\n",
       "      <td>0</td>\n",
       "      <td>0</td>\n",
       "      <td>1</td>\n",
       "      <td>1</td>\n",
       "      <td>1</td>\n",
       "      <td>...</td>\n",
       "      <td>1</td>\n",
       "      <td>1</td>\n",
       "      <td>0</td>\n",
       "      <td>1</td>\n",
       "      <td>1</td>\n",
       "      <td>1</td>\n",
       "      <td>1</td>\n",
       "      <td>1</td>\n",
       "      <td>1</td>\n",
       "      <td>0</td>\n",
       "    </tr>\n",
       "    <tr>\n",
       "      <th>1</th>\n",
       "      <td>0</td>\n",
       "      <td>1</td>\n",
       "      <td>0</td>\n",
       "      <td>0</td>\n",
       "      <td>0</td>\n",
       "      <td>1</td>\n",
       "      <td>0</td>\n",
       "      <td>1</td>\n",
       "      <td>0</td>\n",
       "      <td>0</td>\n",
       "      <td>...</td>\n",
       "      <td>0</td>\n",
       "      <td>0</td>\n",
       "      <td>0</td>\n",
       "      <td>0</td>\n",
       "      <td>0</td>\n",
       "      <td>0</td>\n",
       "      <td>0</td>\n",
       "      <td>0</td>\n",
       "      <td>0</td>\n",
       "      <td>1</td>\n",
       "    </tr>\n",
       "    <tr>\n",
       "      <th>2</th>\n",
       "      <td>0</td>\n",
       "      <td>0</td>\n",
       "      <td>1</td>\n",
       "      <td>0</td>\n",
       "      <td>0</td>\n",
       "      <td>1</td>\n",
       "      <td>0</td>\n",
       "      <td>1</td>\n",
       "      <td>0</td>\n",
       "      <td>0</td>\n",
       "      <td>...</td>\n",
       "      <td>0</td>\n",
       "      <td>0</td>\n",
       "      <td>0</td>\n",
       "      <td>0</td>\n",
       "      <td>0</td>\n",
       "      <td>0</td>\n",
       "      <td>0</td>\n",
       "      <td>0</td>\n",
       "      <td>0</td>\n",
       "      <td>1</td>\n",
       "    </tr>\n",
       "    <tr>\n",
       "      <th>3</th>\n",
       "      <td>0</td>\n",
       "      <td>1</td>\n",
       "      <td>0</td>\n",
       "      <td>1</td>\n",
       "      <td>0</td>\n",
       "      <td>1</td>\n",
       "      <td>1</td>\n",
       "      <td>0</td>\n",
       "      <td>0</td>\n",
       "      <td>0</td>\n",
       "      <td>...</td>\n",
       "      <td>0</td>\n",
       "      <td>0</td>\n",
       "      <td>0</td>\n",
       "      <td>0</td>\n",
       "      <td>0</td>\n",
       "      <td>0</td>\n",
       "      <td>0</td>\n",
       "      <td>0</td>\n",
       "      <td>0</td>\n",
       "      <td>1</td>\n",
       "    </tr>\n",
       "    <tr>\n",
       "      <th>4</th>\n",
       "      <td>0</td>\n",
       "      <td>1</td>\n",
       "      <td>0</td>\n",
       "      <td>1</td>\n",
       "      <td>0</td>\n",
       "      <td>0</td>\n",
       "      <td>1</td>\n",
       "      <td>0</td>\n",
       "      <td>0</td>\n",
       "      <td>0</td>\n",
       "      <td>...</td>\n",
       "      <td>0</td>\n",
       "      <td>0</td>\n",
       "      <td>0</td>\n",
       "      <td>0</td>\n",
       "      <td>0</td>\n",
       "      <td>0</td>\n",
       "      <td>0</td>\n",
       "      <td>0</td>\n",
       "      <td>0</td>\n",
       "      <td>1</td>\n",
       "    </tr>\n",
       "    <tr>\n",
       "      <th>5</th>\n",
       "      <td>0</td>\n",
       "      <td>0</td>\n",
       "      <td>1</td>\n",
       "      <td>1</td>\n",
       "      <td>0</td>\n",
       "      <td>1</td>\n",
       "      <td>1</td>\n",
       "      <td>0</td>\n",
       "      <td>0</td>\n",
       "      <td>0</td>\n",
       "      <td>...</td>\n",
       "      <td>0</td>\n",
       "      <td>0</td>\n",
       "      <td>0</td>\n",
       "      <td>0</td>\n",
       "      <td>0</td>\n",
       "      <td>0</td>\n",
       "      <td>0</td>\n",
       "      <td>0</td>\n",
       "      <td>0</td>\n",
       "      <td>1</td>\n",
       "    </tr>\n",
       "    <tr>\n",
       "      <th>6</th>\n",
       "      <td>0</td>\n",
       "      <td>0</td>\n",
       "      <td>1</td>\n",
       "      <td>1</td>\n",
       "      <td>0</td>\n",
       "      <td>0</td>\n",
       "      <td>1</td>\n",
       "      <td>0</td>\n",
       "      <td>0</td>\n",
       "      <td>0</td>\n",
       "      <td>...</td>\n",
       "      <td>0</td>\n",
       "      <td>0</td>\n",
       "      <td>0</td>\n",
       "      <td>0</td>\n",
       "      <td>0</td>\n",
       "      <td>0</td>\n",
       "      <td>0</td>\n",
       "      <td>0</td>\n",
       "      <td>0</td>\n",
       "      <td>1</td>\n",
       "    </tr>\n",
       "  </tbody>\n",
       "</table>\n",
       "<p>7 rows × 30 columns</p>\n",
       "</div>"
      ],
      "text/plain": [
       "  AKT AXIN2_cyto AXIN2_nuc Bcatenin_memb Bcatenin_nuc Dest_compl Ecadherin  \\\n",
       "0   1          1         0             0            1          0         0   \n",
       "1   0          1         0             0            0          1         0   \n",
       "2   0          0         1             0            0          1         0   \n",
       "3   0          1         0             1            0          1         1   \n",
       "4   0          1         0             1            0          0         1   \n",
       "5   0          0         1             1            0          1         1   \n",
       "6   0          0         1             1            0          0         1   \n",
       "\n",
       "  Ecadherin_CTF GLI_cyto GLI_nuc  ... SNAI2_cyto SNAI2_nuc SOS_GRB2 TGFBR  \\\n",
       "0             1        1       1  ...          1         1        0     1   \n",
       "1             1        0       0  ...          0         0        0     0   \n",
       "2             1        0       0  ...          0         0        0     0   \n",
       "3             0        0       0  ...          0         0        0     0   \n",
       "4             0        0       0  ...          0         0        0     0   \n",
       "5             0        0       0  ...          0         0        0     0   \n",
       "6             0        0       0  ...          0         0        0     0   \n",
       "\n",
       "  TGFBR_icd TWIST1_nuc ZEB1_cyto ZEB1_nuc ZEB2 miR200  \n",
       "0         1          1         1        1    1      0  \n",
       "1         0          0         0        0    0      1  \n",
       "2         0          0         0        0    0      1  \n",
       "3         0          0         0        0    0      1  \n",
       "4         0          0         0        0    0      1  \n",
       "5         0          0         0        0    0      1  \n",
       "6         0          0         0        0    0      1  \n",
       "\n",
       "[7 rows x 30 columns]"
      ]
     },
     "execution_count": 12,
     "metadata": {},
     "output_type": "execute_result"
    }
   ],
   "source": [
    "df=ex.attractor_dataframe(ar)\n",
    "df"
   ]
  },
  {
   "cell_type": "code",
   "execution_count": 13,
   "metadata": {},
   "outputs": [],
   "source": [
    "df.to_excel('EMT30_attractors.xlsx')"
   ]
  },
  {
   "cell_type": "markdown",
   "metadata": {},
   "source": [
    "To access the attractors as the dictionaries:"
   ]
  },
  {
   "cell_type": "code",
   "execution_count": 14,
   "metadata": {},
   "outputs": [
    {
     "name": "stdout",
     "output_type": "stream",
     "text": [
      "{'AKT': 1, 'AXIN2_cyto': 1, 'AXIN2_nuc': 0, 'Bcatenin_memb': 0, 'Bcatenin_nuc': 1, 'Dest_compl': 0, 'Ecadherin': 0, 'Ecadherin_CTF': 1, 'GLI_cyto': 1, 'GLI_nuc': 1, 'GSK3B_cyto': 0, 'GSK3B_nuc': 0, 'MEK': 1, 'NOTCH': 1, 'NOTCH_ic_cyto': 1, 'NOTCH_ic_nuc': 1, 'SMAD_cyto': 1, 'SMAD_nuc': 1, 'SNAI1_cyto': 1, 'SNAI1_nuc': 1, 'SNAI2_cyto': 1, 'SNAI2_nuc': 1, 'SOS_GRB2': 0, 'TGFBR': 1, 'TGFBR_icd': 1, 'TWIST1_nuc': 1, 'ZEB1_cyto': 1, 'ZEB1_nuc': 1, 'ZEB2': 1, 'miR200': 0}\n",
      "{'AKT': 0, 'AXIN2_cyto': 1, 'AXIN2_nuc': 0, 'Bcatenin_memb': 0, 'Bcatenin_nuc': 0, 'Dest_compl': 1, 'Ecadherin': 0, 'Ecadherin_CTF': 1, 'GLI_cyto': 0, 'GLI_nuc': 0, 'GSK3B_cyto': 1, 'GSK3B_nuc': 0, 'MEK': 1, 'NOTCH': 0, 'NOTCH_ic_cyto': 0, 'NOTCH_ic_nuc': 0, 'SMAD_cyto': 0, 'SMAD_nuc': 0, 'SNAI1_cyto': 0, 'SNAI1_nuc': 0, 'SNAI2_cyto': 0, 'SNAI2_nuc': 0, 'SOS_GRB2': 0, 'TGFBR': 0, 'TGFBR_icd': 0, 'TWIST1_nuc': 0, 'ZEB1_cyto': 0, 'ZEB1_nuc': 0, 'ZEB2': 0, 'miR200': 1}\n",
      "{'AKT': 0, 'AXIN2_cyto': 0, 'AXIN2_nuc': 1, 'Bcatenin_memb': 0, 'Bcatenin_nuc': 0, 'Dest_compl': 1, 'Ecadherin': 0, 'Ecadherin_CTF': 1, 'GLI_cyto': 0, 'GLI_nuc': 0, 'GSK3B_cyto': 1, 'GSK3B_nuc': 1, 'MEK': 1, 'NOTCH': 0, 'NOTCH_ic_cyto': 0, 'NOTCH_ic_nuc': 0, 'SMAD_cyto': 0, 'SMAD_nuc': 0, 'SNAI1_cyto': 0, 'SNAI1_nuc': 0, 'SNAI2_cyto': 0, 'SNAI2_nuc': 0, 'SOS_GRB2': 0, 'TGFBR': 0, 'TGFBR_icd': 0, 'TWIST1_nuc': 0, 'ZEB1_cyto': 0, 'ZEB1_nuc': 0, 'ZEB2': 0, 'miR200': 1}\n",
      "{'AKT': 0, 'AXIN2_cyto': 1, 'AXIN2_nuc': 0, 'Bcatenin_memb': 1, 'Bcatenin_nuc': 0, 'Dest_compl': 1, 'Ecadherin': 1, 'Ecadherin_CTF': 0, 'GLI_cyto': 0, 'GLI_nuc': 0, 'GSK3B_cyto': 1, 'GSK3B_nuc': 0, 'MEK': 0, 'NOTCH': 0, 'NOTCH_ic_cyto': 0, 'NOTCH_ic_nuc': 0, 'SMAD_cyto': 0, 'SMAD_nuc': 0, 'SNAI1_cyto': 0, 'SNAI1_nuc': 0, 'SNAI2_cyto': 0, 'SNAI2_nuc': 0, 'SOS_GRB2': 0, 'TGFBR': 0, 'TGFBR_icd': 0, 'TWIST1_nuc': 0, 'ZEB1_cyto': 0, 'ZEB1_nuc': 0, 'ZEB2': 0, 'miR200': 1}\n",
      "{'AKT': 0, 'AXIN2_cyto': 1, 'AXIN2_nuc': 0, 'Bcatenin_memb': 1, 'Bcatenin_nuc': 0, 'Dest_compl': 0, 'Ecadherin': 1, 'Ecadherin_CTF': 0, 'GLI_cyto': 0, 'GLI_nuc': 0, 'GSK3B_cyto': 1, 'GSK3B_nuc': 0, 'MEK': 0, 'NOTCH': 0, 'NOTCH_ic_cyto': 0, 'NOTCH_ic_nuc': 0, 'SMAD_cyto': 0, 'SMAD_nuc': 0, 'SNAI1_cyto': 0, 'SNAI1_nuc': 0, 'SNAI2_cyto': 0, 'SNAI2_nuc': 0, 'SOS_GRB2': 0, 'TGFBR': 0, 'TGFBR_icd': 0, 'TWIST1_nuc': 0, 'ZEB1_cyto': 0, 'ZEB1_nuc': 0, 'ZEB2': 0, 'miR200': 1}\n",
      "{'AKT': 0, 'AXIN2_cyto': 0, 'AXIN2_nuc': 1, 'Bcatenin_memb': 1, 'Bcatenin_nuc': 0, 'Dest_compl': 1, 'Ecadherin': 1, 'Ecadherin_CTF': 0, 'GLI_cyto': 0, 'GLI_nuc': 0, 'GSK3B_cyto': 1, 'GSK3B_nuc': 1, 'MEK': 0, 'NOTCH': 0, 'NOTCH_ic_cyto': 0, 'NOTCH_ic_nuc': 0, 'SMAD_cyto': 0, 'SMAD_nuc': 0, 'SNAI1_cyto': 0, 'SNAI1_nuc': 0, 'SNAI2_cyto': 0, 'SNAI2_nuc': 0, 'SOS_GRB2': 0, 'TGFBR': 0, 'TGFBR_icd': 0, 'TWIST1_nuc': 0, 'ZEB1_cyto': 0, 'ZEB1_nuc': 0, 'ZEB2': 0, 'miR200': 1}\n",
      "{'AKT': 0, 'AXIN2_cyto': 0, 'AXIN2_nuc': 1, 'Bcatenin_memb': 1, 'Bcatenin_nuc': 0, 'Dest_compl': 0, 'Ecadherin': 1, 'Ecadherin_CTF': 0, 'GLI_cyto': 0, 'GLI_nuc': 0, 'GSK3B_cyto': 1, 'GSK3B_nuc': 1, 'MEK': 0, 'NOTCH': 0, 'NOTCH_ic_cyto': 0, 'NOTCH_ic_nuc': 0, 'SMAD_cyto': 0, 'SMAD_nuc': 0, 'SNAI1_cyto': 0, 'SNAI1_nuc': 0, 'SNAI2_cyto': 0, 'SNAI2_nuc': 0, 'SOS_GRB2': 0, 'TGFBR': 0, 'TGFBR_icd': 0, 'TWIST1_nuc': 0, 'ZEB1_cyto': 0, 'ZEB1_nuc': 0, 'ZEB2': 0, 'miR200': 1}\n"
     ]
    }
   ],
   "source": [
    "for a in ar.attractors:\n",
    "    print(a.attractor_dict)"
   ]
  },
  {
   "cell_type": "markdown",
   "metadata": {},
   "source": [
    "## Generating and plotting the Suuccession Diagrams"
   ]
  },
  {
   "cell_type": "markdown",
   "metadata": {},
   "source": [
    "If we want to add the attractors as nodes of the succession diagram connected to the terminal nodes of the succession diagram we set:\n"
   ]
  },
  {
   "cell_type": "code",
   "execution_count": 15,
   "metadata": {},
   "outputs": [],
   "source": [
    "include_attractors_in_diagram=True"
   ]
  },
  {
   "cell_type": "markdown",
   "metadata": {},
   "source": [
    "### Reduced network based succession diagram"
   ]
  },
  {
   "cell_type": "code",
   "execution_count": 16,
   "metadata": {},
   "outputs": [],
   "source": [
    "GR=ex.networkx_succession_diagram_reduced_network_based(ar,include_attractors_in_diagram=include_attractors_in_diagram)"
   ]
  },
  {
   "cell_type": "markdown",
   "metadata": {},
   "source": [
    "### Motif based succession diagram"
   ]
  },
  {
   "cell_type": "code",
   "execution_count": 17,
   "metadata": {},
   "outputs": [],
   "source": [
    "GM=ex.networkx_succession_diagram_motif_based(ar,include_attractors_in_diagram=True)"
   ]
  },
  {
   "cell_type": "markdown",
   "metadata": {},
   "source": [
    "### Plotting with yED"
   ]
  },
  {
   "cell_type": "markdown",
   "metadata": {},
   "source": [
    "Plotting the succession diagrams in matplolib is an quick and efficient way of having a glimpse at the succession diagram, however in the case of large and more complex diagrams this can become inefficient. We suggest exporting the diagrams and plotting them with tools such as yED. Here we explain how to do it:\n",
    "* first, we export the succession diagram into graphml format. The attributes such as the label are preserved by the format"
   ]
  },
  {
   "cell_type": "code",
   "execution_count": 18,
   "metadata": {},
   "outputs": [],
   "source": [
    "ex.save_to_graphml(GM,model_name='EMT30_M_succ_diagram_')\n",
    "ex.save_to_graphml(GR,model_name='EMT30_R_succ_diagram_')"
   ]
  },
  {
   "cell_type": "markdown",
   "metadata": {},
   "source": [
    "* next, open the saved graphml in yED\n",
    "* go to Edit -> Properties Mapper\n",
    "* (optional) in the top left corner of the pop-up window click *import additional configuration* and select the *succession_diagram_yED_properties.cnfx* config file from GitHub. \n",
    "* Set up the configuration and click *Apply*\n",
    "* Finally, we suggest a hierarchical layout. To get this go to Layout -> Hierarchical"
   ]
  },
  {
   "cell_type": "markdown",
   "metadata": {},
   "source": [
    "## Controlling Attractors"
   ]
  },
  {
   "cell_type": "markdown",
   "metadata": {},
   "source": [
    "There are several different algorithms and heuristics that can help determine what is the minimum set of nonredundant nodes that need to be fixed in order to make the system reach a desired state _from any other state_. The target state can be a subset of the nodes as well.\n",
    "\n",
    "The _reprogram_trap_spaces()_ function handles all the implemented control methods. Its inputs are the target node states and the method combinations. Here we give and example for the default _history + internal_ method. Please consult the documentation for the other methods.  \n",
    "\n",
    "_history + internal_ :\n",
    "Finds all shortest stable motif histories that result in the target node states being logically fixed. Each stable motif is searched for internal driver nodes. The resulting internal drivers are combined into a single  control set. The returned list consists of all such control sets for all stable motif histories. Each control set eventually becomes self-sustaining.\n",
    "\n"
   ]
  },
  {
   "cell_type": "code",
   "execution_count": 19,
   "metadata": {},
   "outputs": [],
   "source": [
    "def spontaneous_control_set_lock_in_probability(control_sets,N):\n",
    "    #assuming the opposite state of the control set is realized\n",
    "    return sum([(N)**(-len(cs)) for cs in  control_sets])\n",
    "\n",
    "\n",
    "def initial_setup_control_set_prob(control_sets):\n",
    "    return sum([2**(-len(cs)) for cs in  control_sets])\n"
   ]
  },
  {
   "cell_type": "code",
   "execution_count": 20,
   "metadata": {},
   "outputs": [
    {
     "name": "stdout",
     "output_type": "stream",
     "text": [
      "[{'Bcatenin_nuc': 1}, {'AKT': 1}, {'GLI_nuc': 1}, {'SMAD_nuc': 1}, {'GSK3B_cyto': 0}, {'SOS_GRB2': 1}]\n",
      "0.19999999999999998\n"
     ]
    }
   ],
   "source": [
    "target_state={'AKT': 1, 'AXIN2_cyto': 1, 'AXIN2_nuc': 0, 'Bcatenin_memb': 0, 'Bcatenin_nuc': 1, 'Dest_compl': 0, 'Ecadherin': 0, 'Ecadherin_CTF': 1, 'GLI_cyto': 1, 'GLI_nuc': 1, 'GSK3B_cyto': 0, 'GSK3B_nuc': 0, 'MEK': 1, 'NOTCH': 1, 'NOTCH_ic_cyto': 1, 'NOTCH_ic_nuc': 1, 'SMAD_cyto': 1, 'SMAD_nuc': 1, 'SNAI1_cyto': 1, 'SNAI1_nuc': 1, 'SNAI2_cyto': 1, 'SNAI2_nuc': 1, 'SOS_GRB2': 0, 'TGFBR': 1, 'TGFBR_icd': 1, 'TWIST1_nuc': 1, 'ZEB1_cyto': 1, 'ZEB1_nuc': 1, 'ZEB2': 1, 'miR200': 0}\n",
    "#target_state={'AKT': 0, 'AXIN2_cyto': 0, 'AXIN2_nuc': 1, 'Bcatenin_memb': 1, 'Bcatenin_nuc': 0, 'Dest_compl': 1, 'Ecadherin': 1, 'Ecadherin_CTF': 0, 'GLI_cyto': 0, 'GLI_nuc': 0, 'GSK3B_cyto': 1, 'GSK3B_nuc': 1, 'MEK': 0, 'NOTCH': 0, 'NOTCH_ic_cyto': 0, 'NOTCH_ic_nuc': 0, 'SMAD_cyto': 0, 'SMAD_nuc': 0, 'SNAI1_cyto': 0, 'SNAI1_nuc': 0, 'SNAI2_cyto': 0, 'SNAI2_nuc': 0, 'SOS_GRB2': 0, 'TGFBR': 0, 'TGFBR_icd': 0, 'TWIST1_nuc': 0, 'ZEB1_cyto': 0, 'ZEB1_nuc': 0, 'ZEB2': 0, 'miR200': 1}\n",
    "control_sets=ar.succession_diagram.reprogram_to_trap_spaces(logically_fixed=target_state,\n",
    "                                               target_method='merge',\n",
    "                                               driver_method='minimal')\n",
    "print(control_sets)\n",
    "print(spontaneous_control_set_lock_in_probability(control_sets,len(primes)))"
   ]
  },
  {
   "cell_type": "code",
   "execution_count": 21,
   "metadata": {},
   "outputs": [
    {
     "name": "stdout",
     "output_type": "stream",
     "text": [
      "[[[{'Dest_compl': 1, 'SMAD_cyto': 0, 'Bcatenin_nuc': 0, 'AKT': 0}, {'Dest_compl': 1, 'SMAD_cyto': 0, 'AKT': 0, 'NOTCH_ic_cyto': 0}, {'Dest_compl': 1, 'SMAD_cyto': 0, 'AKT': 0, 'NOTCH': 0}, {'Dest_compl': 1, 'SMAD_cyto': 0, 'AKT': 0, 'Bcatenin_memb': 1}, {'Dest_compl': 1, 'Bcatenin_nuc': 0, 'AKT': 0, 'GLI_nuc': 0}, {'Dest_compl': 1, 'Bcatenin_nuc': 0, 'AKT': 0, 'TGFBR': 0}, {'Dest_compl': 1, 'Bcatenin_nuc': 0, 'AKT': 0, 'SMAD_nuc': 0}, {'Dest_compl': 1, 'Bcatenin_nuc': 0, 'AKT': 0, 'GLI_cyto': 0}, {'Dest_compl': 1, 'Bcatenin_nuc': 0, 'TGFBR': 0, 'GSK3B_cyto': 1}, {'Dest_compl': 1, 'AKT': 0, 'GLI_nuc': 0, 'NOTCH_ic_cyto': 0}, {'Dest_compl': 1, 'AKT': 0, 'GLI_nuc': 0, 'NOTCH': 0}, {'Dest_compl': 1, 'AKT': 0, 'GLI_nuc': 0, 'Bcatenin_memb': 1}, {'Dest_compl': 1, 'AKT': 0, 'NOTCH_ic_cyto': 0, 'TGFBR': 0}, {'Dest_compl': 1, 'AKT': 0, 'NOTCH_ic_cyto': 0, 'SMAD_nuc': 0}, {'Dest_compl': 1, 'AKT': 0, 'NOTCH_ic_cyto': 0, 'GLI_cyto': 0}, {'Dest_compl': 1, 'AKT': 0, 'NOTCH': 0, 'TGFBR': 0}, {'Dest_compl': 1, 'AKT': 0, 'NOTCH': 0, 'SMAD_nuc': 0}, {'Dest_compl': 1, 'AKT': 0, 'NOTCH': 0, 'GLI_cyto': 0}, {'Dest_compl': 1, 'AKT': 0, 'TGFBR': 0, 'Bcatenin_memb': 1}, {'Dest_compl': 1, 'AKT': 0, 'SMAD_nuc': 0, 'Bcatenin_memb': 1}, {'Dest_compl': 1, 'AKT': 0, 'Bcatenin_memb': 1, 'GLI_cyto': 0}, {'Dest_compl': 1, 'NOTCH_ic_cyto': 0, 'TGFBR': 0, 'GSK3B_cyto': 1}, {'Dest_compl': 1, 'NOTCH': 0, 'TGFBR': 0, 'GSK3B_cyto': 1}, {'Dest_compl': 1, 'TGFBR': 0, 'GSK3B_cyto': 1, 'Bcatenin_memb': 1}], [{'Ecadherin': 1}, {'Bcatenin_memb': 1}], [{'AXIN2_cyto': 0}]], [[{'SMAD_cyto': 0, 'AKT': 0, 'Bcatenin_memb': 1}, {'AKT': 0, 'GLI_nuc': 0, 'Bcatenin_memb': 1}, {'AKT': 0, 'TGFBR': 0, 'Bcatenin_memb': 1}, {'AKT': 0, 'SMAD_nuc': 0, 'Bcatenin_memb': 1}, {'AKT': 0, 'Bcatenin_memb': 1, 'GLI_cyto': 0}, {'TGFBR': 0, 'Bcatenin_memb': 1, 'GSK3B_cyto': 1}], [{'AXIN2_cyto': 0}], [{'Dest_compl': 1}]]]\n",
      "7.407407407407407e-05\n"
     ]
    }
   ],
   "source": [
    "target_state={'AKT': 0, 'AXIN2_cyto': 0, 'AXIN2_nuc': 1, 'Bcatenin_memb': 1, 'Bcatenin_nuc': 0, 'Dest_compl': 1, 'Ecadherin': 1, 'Ecadherin_CTF': 0, 'GLI_cyto': 0, 'GLI_nuc': 0, 'GSK3B_cyto': 1, 'GSK3B_nuc': 1, 'MEK': 0, 'NOTCH': 0, 'NOTCH_ic_cyto': 0, 'NOTCH_ic_nuc': 0, 'SMAD_cyto': 0, 'SMAD_nuc': 0, 'SNAI1_cyto': 0, 'SNAI1_nuc': 0, 'SNAI2_cyto': 0, 'SNAI2_nuc': 0, 'SOS_GRB2': 0, 'TGFBR': 0, 'TGFBR_icd': 0, 'TWIST1_nuc': 0, 'ZEB1_cyto': 0, 'ZEB1_nuc': 0, 'ZEB2': 0, 'miR200': 1}\n",
    "control_sets=ar.succession_diagram.reprogram_to_trap_spaces(logically_fixed=target_state,\n",
    "                                               target_method='history',\n",
    "                                               driver_method='minimal')\n",
    "print(control_sets)\n",
    "print(spontaneous_control_set_lock_in_probability(control_sets,len(primes)))"
   ]
  },
  {
   "cell_type": "markdown",
   "metadata": {},
   "source": [
    "Please consult the function docstring for more information (by pressing Shift+Tab when the cursor is in the function or by running ar.succession_diagram.reprogram_to_trap_spaces?)\n"
   ]
  },
  {
   "cell_type": "code",
   "execution_count": 22,
   "metadata": {},
   "outputs": [
    {
     "name": "stdout",
     "output_type": "stream",
     "text": [
      "history internal\n",
      "merge internal\n",
      "merge minimal\n"
     ]
    }
   ],
   "source": [
    "\n",
    "control_methods=[('history', 'internal'),\n",
    "#('history', 'minimal'),\n",
    "#('history', 'GRASP'),\n",
    "('merge','internal'),\n",
    "('merge', 'minimal')]\n",
    "#('merge', 'GRASP')]\n",
    "M_state={'AKT': 1, 'AXIN2_cyto': 1, 'AXIN2_nuc': 0, 'Bcatenin_memb': 0, 'Bcatenin_nuc': 1, 'Dest_compl': 0, 'Ecadherin': 0, 'Ecadherin_CTF': 1, 'GLI_cyto': 1, 'GLI_nuc': 1, 'GSK3B_cyto': 0, 'GSK3B_nuc': 0, 'MEK': 1, 'NOTCH': 1, 'NOTCH_ic_cyto': 1, 'NOTCH_ic_nuc': 1, 'SMAD_cyto': 1, 'SMAD_nuc': 1, 'SNAI1_cyto': 1, 'SNAI1_nuc': 1, 'SNAI2_cyto': 1, 'SNAI2_nuc': 1, 'SOS_GRB2': 0, 'TGFBR': 1, 'TGFBR_icd': 1, 'TWIST1_nuc': 1, 'ZEB1_cyto': 1, 'ZEB1_nuc': 1, 'ZEB2': 1, 'miR200': 0}\n",
    "E_state={'AKT': 0, 'AXIN2_cyto': 0, 'AXIN2_nuc': 1, 'Bcatenin_memb': 1, 'Bcatenin_nuc': 0, 'Dest_compl': 1, 'Ecadherin': 1, 'Ecadherin_CTF': 0, 'GLI_cyto': 0, 'GLI_nuc': 0, 'GSK3B_cyto': 1, 'GSK3B_nuc': 1, 'MEK': 0, 'NOTCH': 0, 'NOTCH_ic_cyto': 0, 'NOTCH_ic_nuc': 0, 'SMAD_cyto': 0, 'SMAD_nuc': 0, 'SNAI1_cyto': 0, 'SNAI1_nuc': 0, 'SNAI2_cyto': 0, 'SNAI2_nuc': 0, 'SOS_GRB2': 0, 'TGFBR': 0, 'TGFBR_icd': 0, 'TWIST1_nuc': 0, 'ZEB1_cyto': 0, 'ZEB1_nuc': 0, 'ZEB2': 0, 'miR200': 1}\n",
    "summary=[]\n",
    "for target_method, driver_method in control_methods:\n",
    "    print(target_method,driver_method)\n",
    "    control_sets_M=ar.succession_diagram.reprogram_to_trap_spaces(logically_fixed=M_state,\n",
    "                                               target_method=target_method,\n",
    "                                               driver_method=driver_method)\n",
    "    p_M=spontaneous_control_set_lock_in_probability(control_sets_M,len(primes))\n",
    "    p_init_M=initial_setup_control_set_prob(control_sets_M)\n",
    "    control_sets_E=ar.succession_diagram.reprogram_to_trap_spaces(logically_fixed=E_state,\n",
    "                                               target_method=target_method,\n",
    "                                               driver_method=driver_method)\n",
    "    p_E=spontaneous_control_set_lock_in_probability(control_sets_E,len(primes))\n",
    "    p_init_E=initial_setup_control_set_prob(control_sets_E)\n",
    "\n",
    "    summary.append([target_method,driver_method,p_M,p_E,p_init_M,p_init_E])\n",
    "    "
   ]
  },
  {
   "cell_type": "code",
   "execution_count": 19,
   "metadata": {},
   "outputs": [
    {
     "data": {
      "text/html": [
       "<div>\n",
       "<style scoped>\n",
       "    .dataframe tbody tr th:only-of-type {\n",
       "        vertical-align: middle;\n",
       "    }\n",
       "\n",
       "    .dataframe tbody tr th {\n",
       "        vertical-align: top;\n",
       "    }\n",
       "\n",
       "    .dataframe thead th {\n",
       "        text-align: right;\n",
       "    }\n",
       "</style>\n",
       "<table border=\"1\" class=\"dataframe\">\n",
       "  <thead>\n",
       "    <tr style=\"text-align: right;\">\n",
       "      <th></th>\n",
       "      <th>target_method</th>\n",
       "      <th>driver_method</th>\n",
       "      <th>p_M</th>\n",
       "      <th>p_E</th>\n",
       "      <th>p_init_M</th>\n",
       "      <th>p_init_E</th>\n",
       "    </tr>\n",
       "  </thead>\n",
       "  <tbody>\n",
       "    <tr>\n",
       "      <th>0</th>\n",
       "      <td>history</td>\n",
       "      <td>internal</td>\n",
       "      <td>0.146296</td>\n",
       "      <td>2.296571e-07</td>\n",
       "      <td>7.25</td>\n",
       "      <td>0.585938</td>\n",
       "    </tr>\n",
       "    <tr>\n",
       "      <th>1</th>\n",
       "      <td>merge</td>\n",
       "      <td>internal</td>\n",
       "      <td>0.178519</td>\n",
       "      <td>2.296571e-07</td>\n",
       "      <td>7.50</td>\n",
       "      <td>0.585938</td>\n",
       "    </tr>\n",
       "    <tr>\n",
       "      <th>2</th>\n",
       "      <td>merge</td>\n",
       "      <td>minimal</td>\n",
       "      <td>0.200000</td>\n",
       "      <td>2.880658e-07</td>\n",
       "      <td>3.00</td>\n",
       "      <td>0.218750</td>\n",
       "    </tr>\n",
       "  </tbody>\n",
       "</table>\n",
       "</div>"
      ],
      "text/plain": [
       "  target_method driver_method       p_M           p_E  p_init_M  p_init_E\n",
       "0       history      internal  0.146296  2.296571e-07      7.25  0.585938\n",
       "1         merge      internal  0.178519  2.296571e-07      7.50  0.585938\n",
       "2         merge       minimal  0.200000  2.880658e-07      3.00  0.218750"
      ]
     },
     "execution_count": 19,
     "metadata": {},
     "output_type": "execute_result"
    }
   ],
   "source": [
    "import pandas as pd\n",
    "\n",
    "df=pd.DataFrame(summary, columns=['target_method','driver_method','p_M','p_E','p_init_M','p_init_E'])\n",
    "df.to_excel('EMT30_control_probabilities.xlsx')\n",
    "df"
   ]
  },
  {
   "cell_type": "code",
   "execution_count": 20,
   "metadata": {},
   "outputs": [
    {
     "data": {
      "text/plain": [
       "[{'SMAD_nuc': 0,\n",
       "  'Dest_compl': 1,\n",
       "  'Bcatenin_memb': 1,\n",
       "  'AXIN2_cyto': 0,\n",
       "  'AKT': 0},\n",
       " {'Dest_compl': 1,\n",
       "  'SMAD_cyto': 0,\n",
       "  'Bcatenin_memb': 1,\n",
       "  'AXIN2_cyto': 0,\n",
       "  'AKT': 0},\n",
       " {'Dest_compl': 1,\n",
       "  'GLI_nuc': 0,\n",
       "  'Bcatenin_memb': 1,\n",
       "  'AXIN2_cyto': 0,\n",
       "  'AKT': 0},\n",
       " {'Dest_compl': 1, 'Bcatenin_memb': 1, 'AXIN2_cyto': 0, 'AKT': 0, 'TGFBR': 0},\n",
       " {'Dest_compl': 1, 'Bcatenin_memb': 1, 'AXIN2_cyto': 0, 'AKT': 0, 'ZEB2': 1},\n",
       " {'Dest_compl': 1,\n",
       "  'Bcatenin_memb': 1,\n",
       "  'AXIN2_cyto': 0,\n",
       "  'AKT': 0,\n",
       "  'GLI_cyto': 0},\n",
       " {'Dest_compl': 1,\n",
       "  'Bcatenin_memb': 1,\n",
       "  'AXIN2_cyto': 0,\n",
       "  'TGFBR': 0,\n",
       "  'GSK3B_cyto': 1}]"
      ]
     },
     "execution_count": 20,
     "metadata": {},
     "output_type": "execute_result"
    }
   ],
   "source": [
    "control_sets_E"
   ]
  },
  {
   "cell_type": "code",
   "execution_count": 21,
   "metadata": {},
   "outputs": [
    {
     "data": {
      "text/plain": [
       "[{'SMAD_nuc': 1},\n",
       " {'Bcatenin_nuc': 1},\n",
       " {'GLI_nuc': 1},\n",
       " {'AKT': 1},\n",
       " {'GSK3B_cyto': 0},\n",
       " {'SOS_GRB2': 1}]"
      ]
     },
     "execution_count": 21,
     "metadata": {},
     "output_type": "execute_result"
    }
   ],
   "source": [
    "control_sets_M"
   ]
  },
  {
   "cell_type": "code",
   "execution_count": null,
   "metadata": {},
   "outputs": [],
   "source": []
  }
 ],
 "metadata": {
  "kernelspec": {
   "display_name": "Python 3",
   "language": "python",
   "name": "python3"
  },
  "language_info": {
   "codemirror_mode": {
    "name": "ipython",
    "version": 3
   },
   "file_extension": ".py",
   "mimetype": "text/x-python",
   "name": "python",
   "nbconvert_exporter": "python",
   "pygments_lexer": "ipython3",
   "version": "3.7.6"
  }
 },
 "nbformat": 4,
 "nbformat_minor": 4
}
